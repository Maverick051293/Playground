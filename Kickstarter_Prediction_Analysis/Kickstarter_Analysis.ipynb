{
 "cells": [
  {
   "cell_type": "code",
   "execution_count": 1,
   "metadata": {},
   "outputs": [],
   "source": [
    "import numpy as np\n",
    "import pandas as pd\n",
    "import matplotlib.pyplot as plt\n",
    "import seaborn as sns\n",
    "\n",
    "from sklearn.model_selection import train_test_split"
   ]
  },
  {
   "cell_type": "code",
   "execution_count": 2,
   "metadata": {},
   "outputs": [
    {
     "name": "stdout",
     "output_type": "stream",
     "text": [
      "Python 3.6.5 :: Anaconda, Inc.\r\n"
     ]
    }
   ],
   "source": [
    "! python --version"
   ]
  },
  {
   "cell_type": "code",
   "execution_count": 3,
   "metadata": {},
   "outputs": [],
   "source": [
    "data = pd.read_csv('./data.csv')"
   ]
  },
  {
   "cell_type": "code",
   "execution_count": 4,
   "metadata": {},
   "outputs": [
    {
     "data": {
      "text/plain": [
       "(378661, 15)"
      ]
     },
     "execution_count": 4,
     "metadata": {},
     "output_type": "execute_result"
    }
   ],
   "source": [
    "data.shape"
   ]
  },
  {
   "cell_type": "code",
   "execution_count": 7,
   "metadata": {},
   "outputs": [
    {
     "data": {
      "text/html": [
       "<div>\n",
       "<style scoped>\n",
       "    .dataframe tbody tr th:only-of-type {\n",
       "        vertical-align: middle;\n",
       "    }\n",
       "\n",
       "    .dataframe tbody tr th {\n",
       "        vertical-align: top;\n",
       "    }\n",
       "\n",
       "    .dataframe thead th {\n",
       "        text-align: right;\n",
       "    }\n",
       "</style>\n",
       "<table border=\"1\" class=\"dataframe\">\n",
       "  <thead>\n",
       "    <tr style=\"text-align: right;\">\n",
       "      <th></th>\n",
       "      <th>ID</th>\n",
       "      <th>name</th>\n",
       "      <th>category</th>\n",
       "      <th>main_category</th>\n",
       "      <th>currency</th>\n",
       "      <th>deadline</th>\n",
       "      <th>goal</th>\n",
       "      <th>launched</th>\n",
       "      <th>pledged</th>\n",
       "      <th>state</th>\n",
       "      <th>backers</th>\n",
       "      <th>country</th>\n",
       "      <th>usd pledged</th>\n",
       "      <th>usd_pledged_real</th>\n",
       "      <th>usd_goal_real</th>\n",
       "    </tr>\n",
       "  </thead>\n",
       "  <tbody>\n",
       "    <tr>\n",
       "      <th>0</th>\n",
       "      <td>1000002330</td>\n",
       "      <td>The Songs of Adelaide &amp; Abullah</td>\n",
       "      <td>Poetry</td>\n",
       "      <td>Publishing</td>\n",
       "      <td>GBP</td>\n",
       "      <td>2015-10-09</td>\n",
       "      <td>1000.0</td>\n",
       "      <td>2015-08-11 12:12:28</td>\n",
       "      <td>0.0</td>\n",
       "      <td>failed</td>\n",
       "      <td>0</td>\n",
       "      <td>GB</td>\n",
       "      <td>0.0</td>\n",
       "      <td>0.0</td>\n",
       "      <td>1533.95</td>\n",
       "    </tr>\n",
       "    <tr>\n",
       "      <th>1</th>\n",
       "      <td>1000003930</td>\n",
       "      <td>Greeting From Earth: ZGAC Arts Capsule For ET</td>\n",
       "      <td>Narrative Film</td>\n",
       "      <td>Film &amp; Video</td>\n",
       "      <td>USD</td>\n",
       "      <td>2017-11-01</td>\n",
       "      <td>30000.0</td>\n",
       "      <td>2017-09-02 04:43:57</td>\n",
       "      <td>2421.0</td>\n",
       "      <td>failed</td>\n",
       "      <td>15</td>\n",
       "      <td>US</td>\n",
       "      <td>100.0</td>\n",
       "      <td>2421.0</td>\n",
       "      <td>30000.00</td>\n",
       "    </tr>\n",
       "  </tbody>\n",
       "</table>\n",
       "</div>"
      ],
      "text/plain": [
       "           ID                                           name        category  \\\n",
       "0  1000002330                The Songs of Adelaide & Abullah          Poetry   \n",
       "1  1000003930  Greeting From Earth: ZGAC Arts Capsule For ET  Narrative Film   \n",
       "\n",
       "  main_category currency    deadline     goal             launched  pledged  \\\n",
       "0    Publishing      GBP  2015-10-09   1000.0  2015-08-11 12:12:28      0.0   \n",
       "1  Film & Video      USD  2017-11-01  30000.0  2017-09-02 04:43:57   2421.0   \n",
       "\n",
       "    state  backers country  usd pledged  usd_pledged_real  usd_goal_real  \n",
       "0  failed        0      GB          0.0               0.0        1533.95  \n",
       "1  failed       15      US        100.0            2421.0       30000.00  "
      ]
     },
     "execution_count": 7,
     "metadata": {},
     "output_type": "execute_result"
    }
   ],
   "source": [
    "data.head(2)"
   ]
  },
  {
   "cell_type": "code",
   "execution_count": 8,
   "metadata": {},
   "outputs": [
    {
     "data": {
      "text/plain": [
       "failed        197719\n",
       "successful    133956\n",
       "canceled       38779\n",
       "undefined       3562\n",
       "live            2799\n",
       "suspended       1846\n",
       "Name: state, dtype: int64"
      ]
     },
     "execution_count": 8,
     "metadata": {},
     "output_type": "execute_result"
    }
   ],
   "source": [
    "data.state.value_counts()"
   ]
  },
  {
   "cell_type": "markdown",
   "metadata": {},
   "source": [
    "### Splitting the dataset"
   ]
  },
  {
   "cell_type": "code",
   "execution_count": 9,
   "metadata": {},
   "outputs": [],
   "source": [
    "# Splitting features and labels\n",
    "\n",
    "X_data, Y_data = data.loc[:,data.columns != 'state'], data.loc[:,data.columns == 'state']"
   ]
  },
  {
   "cell_type": "code",
   "execution_count": 10,
   "metadata": {},
   "outputs": [],
   "source": [
    "# Splitting train test and validation data\n",
    "\n",
    "traindata_X, test_X, traindata_Y,test_Y = train_test_split(X_data, Y_data, test_size = .10, random_state = 7)\n",
    "train_X, val_X, train_Y, val_Y = train_test_split(traindata_X, traindata_Y, test_size = .20, random_state = 7)"
   ]
  },
  {
   "cell_type": "code",
   "execution_count": 11,
   "metadata": {},
   "outputs": [
    {
     "name": "stdout",
     "output_type": "stream",
     "text": [
      "(272635, 14) (272635, 1)\n",
      "(68159, 14) (68159, 1)\n",
      "(37867, 14) (37867, 1)\n"
     ]
    }
   ],
   "source": [
    "print(train_X.shape, train_Y.shape)\n",
    "print(val_X.shape, val_Y.shape)\n",
    "print(test_X.shape, test_Y.shape)"
   ]
  },
  {
   "cell_type": "markdown",
   "metadata": {},
   "source": [
    "### Exploratory Analysis of the dataset"
   ]
  },
  {
   "cell_type": "code",
   "execution_count": 12,
   "metadata": {},
   "outputs": [
    {
     "data": {
      "text/plain": [
       "failed        142407\n",
       "successful     96346\n",
       "canceled       27923\n",
       "undefined       2580\n",
       "live            2027\n",
       "suspended       1352\n",
       "Name: state, dtype: int64"
      ]
     },
     "execution_count": 12,
     "metadata": {},
     "output_type": "execute_result"
    }
   ],
   "source": [
    "train_Y.state.value_counts()"
   ]
  },
  {
   "cell_type": "markdown",
   "metadata": {},
   "source": [
    "<b> Here I need to predict whether a project would be successful or not. So I'll consider all states other than successful to be failed. So it becomes a binary classification problem. </b>"
   ]
  },
  {
   "cell_type": "code",
   "execution_count": 13,
   "metadata": {},
   "outputs": [],
   "source": [
    "# Converting labels to binary labels for all the datasets\n",
    "\n",
    "train_Y = train_Y.state.replace(['canceled','undefined','live','suspended'],'failed').to_frame()\n",
    "val_Y = val_Y.state.replace(['canceled','undefined','live','suspended'],'failed').to_frame()\n",
    "test_Y = test_Y.state.replace(['canceled','undefined','live','suspended'],'failed').to_frame()"
   ]
  },
  {
   "cell_type": "code",
   "execution_count": 14,
   "metadata": {},
   "outputs": [
    {
     "data": {
      "text/plain": [
       "failed        176289\n",
       "successful     96346\n",
       "Name: state, dtype: int64"
      ]
     },
     "execution_count": 14,
     "metadata": {},
     "output_type": "execute_result"
    }
   ],
   "source": [
    "train_Y.state.value_counts()"
   ]
  },
  {
   "cell_type": "code",
   "execution_count": 15,
   "metadata": {},
   "outputs": [
    {
     "data": {
      "text/html": [
       "<div>\n",
       "<style scoped>\n",
       "    .dataframe tbody tr th:only-of-type {\n",
       "        vertical-align: middle;\n",
       "    }\n",
       "\n",
       "    .dataframe tbody tr th {\n",
       "        vertical-align: top;\n",
       "    }\n",
       "\n",
       "    .dataframe thead th {\n",
       "        text-align: right;\n",
       "    }\n",
       "</style>\n",
       "<table border=\"1\" class=\"dataframe\">\n",
       "  <thead>\n",
       "    <tr style=\"text-align: right;\">\n",
       "      <th></th>\n",
       "      <th>ID</th>\n",
       "      <th>name</th>\n",
       "      <th>category</th>\n",
       "      <th>main_category</th>\n",
       "      <th>currency</th>\n",
       "      <th>deadline</th>\n",
       "      <th>goal</th>\n",
       "      <th>launched</th>\n",
       "      <th>pledged</th>\n",
       "      <th>backers</th>\n",
       "      <th>country</th>\n",
       "      <th>usd pledged</th>\n",
       "      <th>usd_pledged_real</th>\n",
       "      <th>usd_goal_real</th>\n",
       "    </tr>\n",
       "  </thead>\n",
       "  <tbody>\n",
       "    <tr>\n",
       "      <th>359919</th>\n",
       "      <td>903624360</td>\n",
       "      <td>Slangster - Global Slang Converter (Canceled)</td>\n",
       "      <td>Apps</td>\n",
       "      <td>Technology</td>\n",
       "      <td>USD</td>\n",
       "      <td>2016-04-23</td>\n",
       "      <td>50000.0</td>\n",
       "      <td>2016-03-24 16:29:13</td>\n",
       "      <td>0.0</td>\n",
       "      <td>0</td>\n",
       "      <td>US</td>\n",
       "      <td>0.00</td>\n",
       "      <td>0.00</td>\n",
       "      <td>50000.00</td>\n",
       "    </tr>\n",
       "    <tr>\n",
       "      <th>318366</th>\n",
       "      <td>691611007</td>\n",
       "      <td>House of Wax, scented wax dipped stuffed anima...</td>\n",
       "      <td>Crafts</td>\n",
       "      <td>Crafts</td>\n",
       "      <td>USD</td>\n",
       "      <td>2015-02-09</td>\n",
       "      <td>1200.0</td>\n",
       "      <td>2015-01-13 05:08:35</td>\n",
       "      <td>0.0</td>\n",
       "      <td>0</td>\n",
       "      <td>US</td>\n",
       "      <td>0.00</td>\n",
       "      <td>0.00</td>\n",
       "      <td>1200.00</td>\n",
       "    </tr>\n",
       "    <tr>\n",
       "      <th>370448</th>\n",
       "      <td>957512628</td>\n",
       "      <td>ZDS : Zombie Defense Simulation</td>\n",
       "      <td>Video Games</td>\n",
       "      <td>Games</td>\n",
       "      <td>USD</td>\n",
       "      <td>2015-12-18</td>\n",
       "      <td>300.0</td>\n",
       "      <td>2015-11-18 01:25:02</td>\n",
       "      <td>89.0</td>\n",
       "      <td>16</td>\n",
       "      <td>US</td>\n",
       "      <td>89.00</td>\n",
       "      <td>89.00</td>\n",
       "      <td>300.00</td>\n",
       "    </tr>\n",
       "    <tr>\n",
       "      <th>154340</th>\n",
       "      <td>1784679909</td>\n",
       "      <td>EDC Snowflake Spinner</td>\n",
       "      <td>Textiles</td>\n",
       "      <td>Art</td>\n",
       "      <td>CAD</td>\n",
       "      <td>2017-04-09</td>\n",
       "      <td>3000.0</td>\n",
       "      <td>2017-03-10 21:59:41</td>\n",
       "      <td>161.0</td>\n",
       "      <td>3</td>\n",
       "      <td>CA</td>\n",
       "      <td>233.40</td>\n",
       "      <td>121.65</td>\n",
       "      <td>2266.72</td>\n",
       "    </tr>\n",
       "    <tr>\n",
       "      <th>263982</th>\n",
       "      <td>412532783</td>\n",
       "      <td>Bowery &amp; Fourth - Business wear for the Urban ...</td>\n",
       "      <td>Ready-to-wear</td>\n",
       "      <td>Fashion</td>\n",
       "      <td>DKK</td>\n",
       "      <td>2015-12-11</td>\n",
       "      <td>100000.0</td>\n",
       "      <td>2015-10-28 14:42:56</td>\n",
       "      <td>107165.0</td>\n",
       "      <td>106</td>\n",
       "      <td>DK</td>\n",
       "      <td>15882.14</td>\n",
       "      <td>15728.10</td>\n",
       "      <td>14676.53</td>\n",
       "    </tr>\n",
       "  </tbody>\n",
       "</table>\n",
       "</div>"
      ],
      "text/plain": [
       "                ID                                               name  \\\n",
       "359919   903624360      Slangster - Global Slang Converter (Canceled)   \n",
       "318366   691611007  House of Wax, scented wax dipped stuffed anima...   \n",
       "370448   957512628                    ZDS : Zombie Defense Simulation   \n",
       "154340  1784679909                              EDC Snowflake Spinner   \n",
       "263982   412532783  Bowery & Fourth - Business wear for the Urban ...   \n",
       "\n",
       "             category main_category currency    deadline      goal  \\\n",
       "359919           Apps    Technology      USD  2016-04-23   50000.0   \n",
       "318366         Crafts        Crafts      USD  2015-02-09    1200.0   \n",
       "370448    Video Games         Games      USD  2015-12-18     300.0   \n",
       "154340       Textiles           Art      CAD  2017-04-09    3000.0   \n",
       "263982  Ready-to-wear       Fashion      DKK  2015-12-11  100000.0   \n",
       "\n",
       "                   launched   pledged  backers country  usd pledged  \\\n",
       "359919  2016-03-24 16:29:13       0.0        0      US         0.00   \n",
       "318366  2015-01-13 05:08:35       0.0        0      US         0.00   \n",
       "370448  2015-11-18 01:25:02      89.0       16      US        89.00   \n",
       "154340  2017-03-10 21:59:41     161.0        3      CA       233.40   \n",
       "263982  2015-10-28 14:42:56  107165.0      106      DK     15882.14   \n",
       "\n",
       "        usd_pledged_real  usd_goal_real  \n",
       "359919              0.00       50000.00  \n",
       "318366              0.00        1200.00  \n",
       "370448             89.00         300.00  \n",
       "154340            121.65        2266.72  \n",
       "263982          15728.10       14676.53  "
      ]
     },
     "execution_count": 15,
     "metadata": {},
     "output_type": "execute_result"
    }
   ],
   "source": [
    "train_X.head()"
   ]
  },
  {
   "cell_type": "code",
   "execution_count": 16,
   "metadata": {},
   "outputs": [
    {
     "data": {
      "text/plain": [
       "ID                     0\n",
       "name                   4\n",
       "category               0\n",
       "main_category          0\n",
       "currency               0\n",
       "deadline               0\n",
       "goal                   0\n",
       "launched               0\n",
       "pledged                0\n",
       "backers                0\n",
       "country                0\n",
       "usd pledged         2741\n",
       "usd_pledged_real       0\n",
       "usd_goal_real          0\n",
       "dtype: int64"
      ]
     },
     "execution_count": 16,
     "metadata": {},
     "output_type": "execute_result"
    }
   ],
   "source": [
    "train_X.isnull().sum()"
   ]
  },
  {
   "cell_type": "markdown",
   "metadata": {},
   "source": [
    "There are a lot of projects that haven't pledged in USD and the usd_pledged doesn't provide conversion for all entries. So it makes sense to just use usd_pledged_real instead of usd_pledged for our analysis.<br>\n",
    "Similarly, different projects have goal amount in different currencies, so it makes sense to use usd_goal_real to compare the goal in a common currency for all the projects."
   ]
  },
  {
   "cell_type": "code",
   "execution_count": 19,
   "metadata": {},
   "outputs": [],
   "source": [
    "# This is used later\n",
    "all_successful = train_X.loc[train_Y.state == 'successful']"
   ]
  },
  {
   "cell_type": "markdown",
   "metadata": {},
   "source": [
    "##### Main Category Analysis"
   ]
  },
  {
   "cell_type": "code",
   "execution_count": 20,
   "metadata": {},
   "outputs": [],
   "source": [
    "main_categ = train_X.main_category.value_counts()"
   ]
  },
  {
   "cell_type": "code",
   "execution_count": 21,
   "metadata": {},
   "outputs": [
    {
     "data": {
      "text/plain": [
       "Film & Video    45703\n",
       "Music           37640\n",
       "Publishing      28609\n",
       "Games           25400\n",
       "Technology      23501\n",
       "Design          21525\n",
       "Art             20199\n",
       "Food            17743\n",
       "Fashion         16440\n",
       "Comics           7820\n",
       "Theater          7815\n",
       "Photography      7766\n",
       "Crafts           6277\n",
       "Journalism       3461\n",
       "Dance            2736\n",
       "Name: main_category, dtype: int64"
      ]
     },
     "execution_count": 21,
     "metadata": {},
     "output_type": "execute_result"
    }
   ],
   "source": [
    "main_categ"
   ]
  },
  {
   "cell_type": "code",
   "execution_count": 22,
   "metadata": {},
   "outputs": [
    {
     "data": {
      "text/plain": [
       "<matplotlib.axes._subplots.AxesSubplot at 0x1163ae748>"
      ]
     },
     "execution_count": 22,
     "metadata": {},
     "output_type": "execute_result"
    },
    {
     "data": {
      "image/png": "[encoded data removed]",
      "text/plain": [
       "<Figure size 1080x432 with 1 Axes>"
      ]
     },
     "metadata": {},
     "output_type": "display_data"
    }
   ],
   "source": [
    "plt.figure(figsize = (15,6))\n",
    "sns.barplot(main_categ.keys(),main_categ.values)"
   ]
  },
  {
   "cell_type": "code",
   "execution_count": 23,
   "metadata": {},
   "outputs": [
    {
     "data": {
      "text/plain": [
       "count           272635\n",
       "unique              15\n",
       "top       Film & Video\n",
       "freq             45703\n",
       "Name: main_category, dtype: object"
      ]
     },
     "execution_count": 23,
     "metadata": {},
     "output_type": "execute_result"
    }
   ],
   "source": [
    "train_X.main_category.describe()"
   ]
  },
  {
   "cell_type": "code",
   "execution_count": 24,
   "metadata": {},
   "outputs": [
    {
     "data": {
      "text/plain": [
       "<matplotlib.axes._subplots.AxesSubplot at 0x116a56198>"
      ]
     },
     "execution_count": 24,
     "metadata": {},
     "output_type": "execute_result"
    },
    {
     "data": {
      "image/png": "[encoded data removed]",
      "text/plain": [
       "<Figure size 1080x432 with 1 Axes>"
      ]
     },
     "metadata": {},
     "output_type": "display_data"
    }
   ],
   "source": [
    "plt.figure(figsize = (15,6))\n",
    "sns.countplot(x = train_X.main_category, hue = train_Y.state)"
   ]
  },
  {
   "cell_type": "markdown",
   "metadata": {},
   "source": [
    "- The chances of success is higher when the project belongs to Music or Film & Video category\n",
    "- Comics, Dance and Theatre have more successful projects than failed projects\n",
    "- Journalism barely has any success at all"
   ]
  },
  {
   "cell_type": "code",
   "execution_count": 25,
   "metadata": {},
   "outputs": [],
   "source": [
    "# Count no. of project IDs with success\n",
    "groupwise_success_count = all_successful.groupby('main_category')['ID'].count()"
   ]
  },
  {
   "cell_type": "code",
   "execution_count": 26,
   "metadata": {},
   "outputs": [],
   "source": [
    "groupwise_total_count = train_X.groupby('main_category')['ID'].count()"
   ]
  },
  {
   "cell_type": "code",
   "execution_count": 27,
   "metadata": {},
   "outputs": [],
   "source": [
    "categ_success_rate = groupwise_success_count/groupwise_total_count*100"
   ]
  },
  {
   "cell_type": "code",
   "execution_count": 28,
   "metadata": {},
   "outputs": [
    {
     "data": {
      "text/plain": [
       "main_category\n",
       "Art             40.739641\n",
       "Comics          53.529412\n",
       "Crafts          23.753385\n",
       "Dance           62.426901\n",
       "Design          35.024390\n",
       "Fashion         24.641119\n",
       "Film & Video    37.255760\n",
       "Food            24.680156\n",
       "Games           35.480315\n",
       "Journalism      21.092170\n",
       "Music           46.461211\n",
       "Photography     30.839557\n",
       "Publishing      30.637212\n",
       "Technology      19.918301\n",
       "Theater         59.692898\n",
       "Name: ID, dtype: float64"
      ]
     },
     "execution_count": 28,
     "metadata": {},
     "output_type": "execute_result"
    }
   ],
   "source": [
    "categ_success_rate"
   ]
  },
  {
   "cell_type": "code",
   "execution_count": 29,
   "metadata": {},
   "outputs": [
    {
     "data": {
      "image/png": "[encoded data removed]",
      "text/plain": [
       "<Figure size 1080x432 with 1 Axes>"
      ]
     },
     "metadata": {},
     "output_type": "display_data"
    }
   ],
   "source": [
    "plt.figure(figsize = (15,6))\n",
    "plt.title('Category wise Project Success rate')\n",
    "sns.barplot(x = categ_success_rate.keys(), y = categ_success_rate.values)\n",
    "plt.xlabel('Categories')\n",
    "plt.ylabel('% value')\n",
    "plt.show()"
   ]
  },
  {
   "cell_type": "markdown",
   "metadata": {},
   "source": [
    "- Here we can see that Dance and Theatre have the highest success rates even though they have lower number of projects.\n",
    "- So category is an important feature for feeding in to our model"
   ]
  },
  {
   "cell_type": "markdown",
   "metadata": {},
   "source": [
    "##### Currency Analysis"
   ]
  },
  {
   "cell_type": "code",
   "execution_count": 30,
   "metadata": {},
   "outputs": [],
   "source": [
    "currency_counts = train_X.currency.value_counts()"
   ]
  },
  {
   "cell_type": "code",
   "execution_count": 31,
   "metadata": {},
   "outputs": [
    {
     "data": {
      "text/plain": [
       "USD    212625\n",
       "GBP     24600\n",
       "EUR     12432\n",
       "CAD     10894\n",
       "AUD      5722\n",
       "SEK      1305\n",
       "MXN      1248\n",
       "NZD      1083\n",
       "DKK       792\n",
       "CHF       546\n",
       "NOK       525\n",
       "HKD       438\n",
       "SGD       393\n",
       "JPY        32\n",
       "Name: currency, dtype: int64"
      ]
     },
     "execution_count": 31,
     "metadata": {},
     "output_type": "execute_result"
    }
   ],
   "source": [
    "currency_counts"
   ]
  },
  {
   "cell_type": "code",
   "execution_count": 32,
   "metadata": {},
   "outputs": [
    {
     "data": {
      "text/plain": [
       "<matplotlib.axes._subplots.AxesSubplot at 0x11ad0b748>"
      ]
     },
     "execution_count": 32,
     "metadata": {},
     "output_type": "execute_result"
    },
    {
     "data": {
      "image/png": "[encoded data removed]",
      "text/plain": [
       "<Figure size 432x288 with 1 Axes>"
      ]
     },
     "metadata": {},
     "output_type": "display_data"
    }
   ],
   "source": [
    "sns.barplot(currency_counts.keys(),currency_counts.values)"
   ]
  },
  {
   "cell_type": "code",
   "execution_count": 33,
   "metadata": {},
   "outputs": [
    {
     "data": {
      "text/plain": [
       "<matplotlib.axes._subplots.AxesSubplot at 0x11b107cc0>"
      ]
     },
     "execution_count": 33,
     "metadata": {},
     "output_type": "execute_result"
    },
    {
     "data": {
      "image/png": "[encoded data removed]",
      "text/plain": [
       "<Figure size 432x288 with 1 Axes>"
      ]
     },
     "metadata": {},
     "output_type": "display_data"
    }
   ],
   "source": [
    "sns.countplot(x = train_X.currency, hue = train_Y.state)"
   ]
  },
  {
   "cell_type": "markdown",
   "metadata": {},
   "source": [
    "- Since most of the projects are pledged in USD, the chances of success are higher when projects use USD"
   ]
  },
  {
   "cell_type": "code",
   "execution_count": 34,
   "metadata": {},
   "outputs": [],
   "source": [
    "groupwise_currency_success = all_successful.groupby('currency')['ID'].count()"
   ]
  },
  {
   "cell_type": "code",
   "execution_count": 35,
   "metadata": {},
   "outputs": [],
   "source": [
    "groupwise_currency_all = train_X.groupby('currency')['ID'].count()"
   ]
  },
  {
   "cell_type": "code",
   "execution_count": 36,
   "metadata": {},
   "outputs": [],
   "source": [
    "currency_success_rate = groupwise_currency_success/groupwise_currency_all * 100"
   ]
  },
  {
   "cell_type": "code",
   "execution_count": 37,
   "metadata": {},
   "outputs": [
    {
     "data": {
      "text/plain": [
       "currency\n",
       "AUD    25.026215\n",
       "CAD    27.730861\n",
       "CHF    24.542125\n",
       "DKK    31.565657\n",
       "EUR    22.192728\n",
       "GBP    35.325203\n",
       "HKD    33.561644\n",
       "JPY    18.750000\n",
       "MXN    22.115385\n",
       "NOK    22.857143\n",
       "NZD    29.547553\n",
       "SEK    28.122605\n",
       "SGD    32.315522\n",
       "USD    37.012111\n",
       "Name: ID, dtype: float64"
      ]
     },
     "execution_count": 37,
     "metadata": {},
     "output_type": "execute_result"
    }
   ],
   "source": [
    "currency_success_rate"
   ]
  },
  {
   "cell_type": "code",
   "execution_count": 38,
   "metadata": {},
   "outputs": [
    {
     "data": {
      "image/png": "[encoded data removed]",
      "text/plain": [
       "<Figure size 1080x432 with 1 Axes>"
      ]
     },
     "metadata": {},
     "output_type": "display_data"
    }
   ],
   "source": [
    "plt.figure(figsize = (15,6))\n",
    "plt.title('Currency wise Project Success rate')\n",
    "sns.barplot(x = currency_success_rate.keys(), y = currency_success_rate.values)\n",
    "plt.xlabel('Currency')\n",
    "plt.ylabel('% value')\n",
    "plt.show()"
   ]
  },
  {
   "cell_type": "markdown",
   "metadata": {},
   "source": [
    "- Here we can see that all the currencies have approximately close success rate, ranging between 20 and 38% approx. "
   ]
  },
  {
   "cell_type": "markdown",
   "metadata": {},
   "source": [
    "##### Country Analysis"
   ]
  },
  {
   "cell_type": "code",
   "execution_count": 39,
   "metadata": {},
   "outputs": [],
   "source": [
    "country_counts = train_X.country.value_counts()"
   ]
  },
  {
   "cell_type": "code",
   "execution_count": 40,
   "metadata": {},
   "outputs": [
    {
     "data": {
      "text/plain": [
       "US      210664\n",
       "GB       24265\n",
       "CA       10741\n",
       "AU        5643\n",
       "DE        2971\n",
       "N,0\"      2741\n",
       "IT        2079\n",
       "FR        2076\n",
       "NL        2067\n",
       "ES        1610\n",
       "SE        1282\n",
       "MX        1248\n",
       "NZ        1060\n",
       "DK         784\n",
       "IE         562\n",
       "CH         541\n",
       "NO         513\n",
       "BE         451\n",
       "HK         438\n",
       "AT         423\n",
       "SG         393\n",
       "LU          51\n",
       "JP          32\n",
       "Name: country, dtype: int64"
      ]
     },
     "execution_count": 40,
     "metadata": {},
     "output_type": "execute_result"
    }
   ],
   "source": [
    "country_counts"
   ]
  },
  {
   "cell_type": "code",
   "execution_count": 41,
   "metadata": {},
   "outputs": [
    {
     "data": {
      "text/plain": [
       "<matplotlib.axes._subplots.AxesSubplot at 0x108d006a0>"
      ]
     },
     "execution_count": 41,
     "metadata": {},
     "output_type": "execute_result"
    },
    {
     "data": {
      "image/png": "[encoded data removed]",
      "text/plain": [
       "<Figure size 864x432 with 1 Axes>"
      ]
     },
     "metadata": {},
     "output_type": "display_data"
    }
   ],
   "source": [
    "plt.figure(figsize = (12,6))\n",
    "sns.barplot(country_counts.keys(),country_counts.values)"
   ]
  },
  {
   "cell_type": "code",
   "execution_count": 42,
   "metadata": {},
   "outputs": [
    {
     "data": {
      "text/plain": [
       "<matplotlib.axes._subplots.AxesSubplot at 0x11c3eb320>"
      ]
     },
     "execution_count": 42,
     "metadata": {},
     "output_type": "execute_result"
    },
    {
     "data": {
      "image/png": "[encoded data removed]",
      "text/plain": [
       "<Figure size 864x432 with 1 Axes>"
      ]
     },
     "metadata": {},
     "output_type": "display_data"
    }
   ],
   "source": [
    "plt.figure(figsize = (12,6))\n",
    "sns.countplot(x=train_X.country, hue = train_Y.state)"
   ]
  },
  {
   "cell_type": "markdown",
   "metadata": {},
   "source": [
    "- Again, as most of the projects are undertaken in US, the success rate is obviously higher for projects in US"
   ]
  },
  {
   "cell_type": "code",
   "execution_count": 43,
   "metadata": {},
   "outputs": [],
   "source": [
    "groupwise_country_success = all_successful.groupby('country')['ID'].count()"
   ]
  },
  {
   "cell_type": "code",
   "execution_count": 44,
   "metadata": {},
   "outputs": [],
   "source": [
    "groupwise_country_all = train_X.groupby('country')['ID'].count()"
   ]
  },
  {
   "cell_type": "code",
   "execution_count": 45,
   "metadata": {},
   "outputs": [],
   "source": [
    "country_success_rate = groupwise_country_success/groupwise_country_all*100"
   ]
  },
  {
   "cell_type": "code",
   "execution_count": 46,
   "metadata": {},
   "outputs": [
    {
     "data": {
      "text/plain": [
       "country\n",
       "AT      20.330969\n",
       "AU      25.376573\n",
       "BE      24.833703\n",
       "CA      28.116563\n",
       "CH      24.768946\n",
       "DE      22.046449\n",
       "DK      31.887755\n",
       "ES      21.925466\n",
       "FR      30.587669\n",
       "GB      35.779930\n",
       "HK      33.561644\n",
       "IE      24.555160\n",
       "IT      15.680616\n",
       "JP      18.750000\n",
       "LU      27.450980\n",
       "MX      22.115385\n",
       "N,0\"     2.626779\n",
       "NL      21.093372\n",
       "NO      23.196881\n",
       "NZ      30.188679\n",
       "SE      28.627145\n",
       "SG      32.315522\n",
       "US      37.329112\n",
       "Name: ID, dtype: float64"
      ]
     },
     "execution_count": 46,
     "metadata": {},
     "output_type": "execute_result"
    }
   ],
   "source": [
    "country_success_rate"
   ]
  },
  {
   "cell_type": "code",
   "execution_count": 47,
   "metadata": {},
   "outputs": [
    {
     "data": {
      "image/png": "[encoded data removed]",
      "text/plain": [
       "<Figure size 1080x432 with 1 Axes>"
      ]
     },
     "metadata": {},
     "output_type": "display_data"
    }
   ],
   "source": [
    "plt.figure(figsize = (15,6))\n",
    "plt.title('Country wise Project Success rate')\n",
    "sns.barplot(x = country_success_rate.keys(), y = country_success_rate.values)\n",
    "plt.xlabel('Country')\n",
    "plt.ylabel('% value')\n",
    "plt.show()"
   ]
  },
  {
   "cell_type": "markdown",
   "metadata": {},
   "source": [
    "- Here again we see, similar to currency, that country wise success rate is pretty much similar and within the range of 20-38%. \n"
   ]
  },
  {
   "cell_type": "markdown",
   "metadata": {},
   "source": [
    "##### Launched Date Analysis"
   ]
  },
  {
   "cell_type": "code",
   "execution_count": 48,
   "metadata": {},
   "outputs": [],
   "source": [
    "train_X = train_X.assign(launched_year = train_X.launched.apply(lambda x: x.split(\" \")[0].split(\"-\")[0]).astype(int))\n",
    "train_X = train_X.assign(launched_month = train_X.launched.apply(lambda x: x.split(\" \")[0].split(\"-\")[1]).astype(int))"
   ]
  },
  {
   "cell_type": "code",
   "execution_count": 49,
   "metadata": {},
   "outputs": [],
   "source": [
    "# This is used later\n",
    "all_successful = train_X.loc[train_Y.state == 'successful']"
   ]
  },
  {
   "cell_type": "code",
   "execution_count": 50,
   "metadata": {},
   "outputs": [
    {
     "data": {
      "text/html": [
       "<div>\n",
       "<style scoped>\n",
       "    .dataframe tbody tr th:only-of-type {\n",
       "        vertical-align: middle;\n",
       "    }\n",
       "\n",
       "    .dataframe tbody tr th {\n",
       "        vertical-align: top;\n",
       "    }\n",
       "\n",
       "    .dataframe thead th {\n",
       "        text-align: right;\n",
       "    }\n",
       "</style>\n",
       "<table border=\"1\" class=\"dataframe\">\n",
       "  <thead>\n",
       "    <tr style=\"text-align: right;\">\n",
       "      <th></th>\n",
       "      <th>ID</th>\n",
       "      <th>name</th>\n",
       "      <th>category</th>\n",
       "      <th>main_category</th>\n",
       "      <th>currency</th>\n",
       "      <th>deadline</th>\n",
       "      <th>goal</th>\n",
       "      <th>launched</th>\n",
       "      <th>pledged</th>\n",
       "      <th>backers</th>\n",
       "      <th>country</th>\n",
       "      <th>usd pledged</th>\n",
       "      <th>usd_pledged_real</th>\n",
       "      <th>usd_goal_real</th>\n",
       "      <th>launched_year</th>\n",
       "      <th>launched_month</th>\n",
       "    </tr>\n",
       "  </thead>\n",
       "  <tbody>\n",
       "    <tr>\n",
       "      <th>359919</th>\n",
       "      <td>903624360</td>\n",
       "      <td>Slangster - Global Slang Converter (Canceled)</td>\n",
       "      <td>Apps</td>\n",
       "      <td>Technology</td>\n",
       "      <td>USD</td>\n",
       "      <td>2016-04-23</td>\n",
       "      <td>50000.0</td>\n",
       "      <td>2016-03-24 16:29:13</td>\n",
       "      <td>0.0</td>\n",
       "      <td>0</td>\n",
       "      <td>US</td>\n",
       "      <td>0.0</td>\n",
       "      <td>0.0</td>\n",
       "      <td>50000.0</td>\n",
       "      <td>2016</td>\n",
       "      <td>3</td>\n",
       "    </tr>\n",
       "    <tr>\n",
       "      <th>318366</th>\n",
       "      <td>691611007</td>\n",
       "      <td>House of Wax, scented wax dipped stuffed anima...</td>\n",
       "      <td>Crafts</td>\n",
       "      <td>Crafts</td>\n",
       "      <td>USD</td>\n",
       "      <td>2015-02-09</td>\n",
       "      <td>1200.0</td>\n",
       "      <td>2015-01-13 05:08:35</td>\n",
       "      <td>0.0</td>\n",
       "      <td>0</td>\n",
       "      <td>US</td>\n",
       "      <td>0.0</td>\n",
       "      <td>0.0</td>\n",
       "      <td>1200.0</td>\n",
       "      <td>2015</td>\n",
       "      <td>1</td>\n",
       "    </tr>\n",
       "  </tbody>\n",
       "</table>\n",
       "</div>"
      ],
      "text/plain": [
       "               ID                                               name category  \\\n",
       "359919  903624360      Slangster - Global Slang Converter (Canceled)     Apps   \n",
       "318366  691611007  House of Wax, scented wax dipped stuffed anima...   Crafts   \n",
       "\n",
       "       main_category currency    deadline     goal             launched  \\\n",
       "359919    Technology      USD  2016-04-23  50000.0  2016-03-24 16:29:13   \n",
       "318366        Crafts      USD  2015-02-09   1200.0  2015-01-13 05:08:35   \n",
       "\n",
       "        pledged  backers country  usd pledged  usd_pledged_real  \\\n",
       "359919      0.0        0      US          0.0               0.0   \n",
       "318366      0.0        0      US          0.0               0.0   \n",
       "\n",
       "        usd_goal_real  launched_year  launched_month  \n",
       "359919        50000.0           2016               3  \n",
       "318366         1200.0           2015               1  "
      ]
     },
     "execution_count": 50,
     "metadata": {},
     "output_type": "execute_result"
    }
   ],
   "source": [
    "train_X.head(2)"
   ]
  },
  {
   "cell_type": "code",
   "execution_count": 51,
   "metadata": {},
   "outputs": [],
   "source": [
    "yearly_counts = train_X.launched_year.value_counts()"
   ]
  },
  {
   "cell_type": "code",
   "execution_count": 52,
   "metadata": {},
   "outputs": [
    {
     "data": {
      "text/plain": [
       "2015    55774\n",
       "2014    48709\n",
       "2016    41240\n",
       "2017    37485\n",
       "2013    32206\n",
       "2012    29632\n",
       "2011    18921\n",
       "2010     7591\n",
       "2009      977\n",
       "2018       94\n",
       "1970        6\n",
       "Name: launched_year, dtype: int64"
      ]
     },
     "execution_count": 52,
     "metadata": {},
     "output_type": "execute_result"
    }
   ],
   "source": [
    "yearly_counts"
   ]
  },
  {
   "cell_type": "code",
   "execution_count": 53,
   "metadata": {},
   "outputs": [
    {
     "data": {
      "text/plain": [
       "<matplotlib.axes._subplots.AxesSubplot at 0x11d0be240>"
      ]
     },
     "execution_count": 53,
     "metadata": {},
     "output_type": "execute_result"
    },
    {
     "data": {
      "image/png": "[encoded data removed]",
      "text/plain": [
       "<Figure size 432x288 with 1 Axes>"
      ]
     },
     "metadata": {},
     "output_type": "display_data"
    }
   ],
   "source": [
    "sns.barplot(yearly_counts.keys(),yearly_counts.values)"
   ]
  },
  {
   "cell_type": "code",
   "execution_count": 54,
   "metadata": {},
   "outputs": [
    {
     "data": {
      "text/plain": [
       "<matplotlib.axes._subplots.AxesSubplot at 0x11f0805c0>"
      ]
     },
     "execution_count": 54,
     "metadata": {},
     "output_type": "execute_result"
    },
    {
     "data": {
      "image/png": "[encoded data removed]",
      "text/plain": [
       "<Figure size 432x288 with 1 Axes>"
      ]
     },
     "metadata": {},
     "output_type": "display_data"
    }
   ],
   "source": [
    "sns.countplot(x = train_X.launched_year, hue = train_Y.state)"
   ]
  },
  {
   "cell_type": "markdown",
   "metadata": {},
   "source": [
    "- We can see here that the projects launched between 2012 and 2018 have fairly a similar amount of success"
   ]
  },
  {
   "cell_type": "code",
   "execution_count": 55,
   "metadata": {},
   "outputs": [],
   "source": [
    "groupwise_year_success = all_successful.groupby('launched_year')['ID'].count()"
   ]
  },
  {
   "cell_type": "code",
   "execution_count": 56,
   "metadata": {},
   "outputs": [
    {
     "data": {
      "text/plain": [
       "launched_year\n",
       "2009      434\n",
       "2010     3340\n",
       "2011     8806\n",
       "2012    12860\n",
       "2013    13915\n",
       "2014    15200\n",
       "2015    15083\n",
       "2016    13523\n",
       "2017    13185\n",
       "Name: ID, dtype: int64"
      ]
     },
     "execution_count": 56,
     "metadata": {},
     "output_type": "execute_result"
    }
   ],
   "source": [
    "groupwise_year_success"
   ]
  },
  {
   "cell_type": "code",
   "execution_count": 57,
   "metadata": {},
   "outputs": [],
   "source": [
    "groupwise_year_all = train_X.groupby('launched_year')['ID'].count()"
   ]
  },
  {
   "cell_type": "code",
   "execution_count": 58,
   "metadata": {},
   "outputs": [
    {
     "data": {
      "text/plain": [
       "launched_year\n",
       "1970        6\n",
       "2009      977\n",
       "2010     7591\n",
       "2011    18921\n",
       "2012    29632\n",
       "2013    32206\n",
       "2014    48709\n",
       "2015    55774\n",
       "2016    41240\n",
       "2017    37485\n",
       "2018       94\n",
       "Name: ID, dtype: int64"
      ]
     },
     "execution_count": 58,
     "metadata": {},
     "output_type": "execute_result"
    }
   ],
   "source": [
    "groupwise_year_all"
   ]
  },
  {
   "cell_type": "code",
   "execution_count": 59,
   "metadata": {},
   "outputs": [],
   "source": [
    "year_success_rate = groupwise_year_success/groupwise_year_all*100"
   ]
  },
  {
   "cell_type": "code",
   "execution_count": 60,
   "metadata": {},
   "outputs": [
    {
     "data": {
      "text/plain": [
       "launched_year\n",
       "1970          NaN\n",
       "2009    44.421699\n",
       "2010    43.999473\n",
       "2011    46.540881\n",
       "2012    43.399028\n",
       "2013    43.206235\n",
       "2014    31.205732\n",
       "2015    27.043067\n",
       "2016    32.790980\n",
       "2017    35.174070\n",
       "2018          NaN\n",
       "Name: ID, dtype: float64"
      ]
     },
     "execution_count": 60,
     "metadata": {},
     "output_type": "execute_result"
    }
   ],
   "source": [
    "year_success_rate"
   ]
  },
  {
   "cell_type": "code",
   "execution_count": 61,
   "metadata": {},
   "outputs": [],
   "source": [
    "year_success_rate = year_success_rate.fillna(0)"
   ]
  },
  {
   "cell_type": "code",
   "execution_count": 62,
   "metadata": {},
   "outputs": [
    {
     "data": {
      "text/plain": [
       "launched_year\n",
       "1970     0.000000\n",
       "2009    44.421699\n",
       "2010    43.999473\n",
       "2011    46.540881\n",
       "2012    43.399028\n",
       "2013    43.206235\n",
       "2014    31.205732\n",
       "2015    27.043067\n",
       "2016    32.790980\n",
       "2017    35.174070\n",
       "2018     0.000000\n",
       "Name: ID, dtype: float64"
      ]
     },
     "execution_count": 62,
     "metadata": {},
     "output_type": "execute_result"
    }
   ],
   "source": [
    "year_success_rate"
   ]
  },
  {
   "cell_type": "code",
   "execution_count": 63,
   "metadata": {},
   "outputs": [
    {
     "data": {
      "image/png": "[encoded data removed]",
      "text/plain": [
       "<Figure size 1080x432 with 1 Axes>"
      ]
     },
     "metadata": {},
     "output_type": "display_data"
    }
   ],
   "source": [
    "plt.figure(figsize = (15,6))\n",
    "plt.title('Year wise Project Success rate')\n",
    "sns.barplot(x = year_success_rate.keys(), y = year_success_rate.values)\n",
    "plt.xlabel('Year')\n",
    "plt.ylabel('% value')\n",
    "plt.show()"
   ]
  },
  {
   "cell_type": "markdown",
   "metadata": {},
   "source": [
    "- Here we see that launched year does not have a major effect on success rate.\n",
    "- The projects launched in 1970 and 2018 haven't been successful at all. "
   ]
  },
  {
   "cell_type": "code",
   "execution_count": 64,
   "metadata": {},
   "outputs": [],
   "source": [
    "monthly_counts = train_X.launched_month.value_counts()"
   ]
  },
  {
   "cell_type": "code",
   "execution_count": 65,
   "metadata": {},
   "outputs": [
    {
     "data": {
      "text/plain": [
       "7     26146\n",
       "3     24332\n",
       "10    24098\n",
       "11    23798\n",
       "5     23760\n",
       "6     23513\n",
       "4     23183\n",
       "8     23150\n",
       "9     22303\n",
       "2     21494\n",
       "1     20042\n",
       "12    16816\n",
       "Name: launched_month, dtype: int64"
      ]
     },
     "execution_count": 65,
     "metadata": {},
     "output_type": "execute_result"
    }
   ],
   "source": [
    "monthly_counts"
   ]
  },
  {
   "cell_type": "code",
   "execution_count": 66,
   "metadata": {},
   "outputs": [
    {
     "data": {
      "text/plain": [
       "<matplotlib.axes._subplots.AxesSubplot at 0x11bf6a7f0>"
      ]
     },
     "execution_count": 66,
     "metadata": {},
     "output_type": "execute_result"
    },
    {
     "data": {
      "image/png": "[encoded data removed]",
      "text/plain": [
       "<Figure size 432x288 with 1 Axes>"
      ]
     },
     "metadata": {},
     "output_type": "display_data"
    }
   ],
   "source": [
    "sns.barplot(monthly_counts.keys(),monthly_counts.values)"
   ]
  },
  {
   "cell_type": "code",
   "execution_count": 67,
   "metadata": {},
   "outputs": [
    {
     "data": {
      "text/plain": [
       "<matplotlib.axes._subplots.AxesSubplot at 0x11b17e2b0>"
      ]
     },
     "execution_count": 67,
     "metadata": {},
     "output_type": "execute_result"
    },
    {
     "data": {
      "image/png": "[encoded data removed]",
      "text/plain": [
       "<Figure size 432x288 with 1 Axes>"
      ]
     },
     "metadata": {},
     "output_type": "display_data"
    }
   ],
   "source": [
    "sns.countplot(x = train_X.launched_month, hue = train_Y.state)"
   ]
  },
  {
   "cell_type": "code",
   "execution_count": 68,
   "metadata": {},
   "outputs": [],
   "source": [
    "groupby_month_success = all_successful.groupby('launched_month')['ID'].count()"
   ]
  },
  {
   "cell_type": "code",
   "execution_count": 69,
   "metadata": {},
   "outputs": [],
   "source": [
    "groupby_month_all = train_X.groupby('launched_month')['ID'].count()"
   ]
  },
  {
   "cell_type": "code",
   "execution_count": 70,
   "metadata": {},
   "outputs": [],
   "source": [
    "month_success_rate = groupby_month_success/groupby_month_all*100"
   ]
  },
  {
   "cell_type": "code",
   "execution_count": 71,
   "metadata": {},
   "outputs": [
    {
     "data": {
      "text/plain": [
       "launched_month\n",
       "1     33.888833\n",
       "2     36.898669\n",
       "3     37.876048\n",
       "4     37.428288\n",
       "5     36.473064\n",
       "6     35.903543\n",
       "7     32.104337\n",
       "8     33.680346\n",
       "9     36.143120\n",
       "10    36.853681\n",
       "11    35.834944\n",
       "12    29.501665\n",
       "Name: ID, dtype: float64"
      ]
     },
     "execution_count": 71,
     "metadata": {},
     "output_type": "execute_result"
    }
   ],
   "source": [
    "month_success_rate"
   ]
  },
  {
   "cell_type": "code",
   "execution_count": 72,
   "metadata": {},
   "outputs": [
    {
     "data": {
      "image/png": "[encoded data removed]",
      "text/plain": [
       "<Figure size 1080x432 with 1 Axes>"
      ]
     },
     "metadata": {},
     "output_type": "display_data"
    }
   ],
   "source": [
    "plt.figure(figsize = (15,6))\n",
    "plt.title('Month wise Project Success rate')\n",
    "sns.barplot(x = month_success_rate.keys(), y = month_success_rate.values)\n",
    "plt.xlabel('Month')\n",
    "plt.ylabel('% value')\n",
    "plt.show()"
   ]
  },
  {
   "cell_type": "markdown",
   "metadata": {},
   "source": [
    "- We can see here that the launched month doesn't really have much effect on success of a project, similar to launched year. So launched date is not an important feature to consider in our final set of features."
   ]
  },
  {
   "cell_type": "markdown",
   "metadata": {},
   "source": [
    "##### Goal Analysis"
   ]
  },
  {
   "cell_type": "code",
   "execution_count": 73,
   "metadata": {},
   "outputs": [],
   "source": [
    "country_goal_mean = train_X.groupby('country').usd_goal_real.mean()"
   ]
  },
  {
   "cell_type": "code",
   "execution_count": 74,
   "metadata": {},
   "outputs": [
    {
     "data": {
      "text/plain": [
       "country\n",
       "AT       43939.510922\n",
       "AU       57480.337450\n",
       "BE       40439.578625\n",
       "CA       39153.838362\n",
       "CH      251851.105176\n",
       "DE       43595.851323\n",
       "DK       40603.395497\n",
       "ES       54381.182478\n",
       "FR       99844.899200\n",
       "GB       41234.863937\n",
       "HK       24031.944110\n",
       "IE       31511.056157\n",
       "IT       61305.548297\n",
       "JP       16767.066563\n",
       "LU       27701.225490\n",
       "MX       12901.400641\n",
       "N,0\"      4993.265308\n",
       "NL       51368.918123\n",
       "NO       58933.990312\n",
       "NZ       20957.136849\n",
       "SE       44468.046669\n",
       "SG       15776.214656\n",
       "US       42979.461148\n",
       "Name: usd_goal_real, dtype: float64"
      ]
     },
     "execution_count": 74,
     "metadata": {},
     "output_type": "execute_result"
    }
   ],
   "source": [
    "country_goal_mean"
   ]
  },
  {
   "cell_type": "code",
   "execution_count": 75,
   "metadata": {},
   "outputs": [
    {
     "data": {
      "text/plain": [
       "<matplotlib.axes._subplots.AxesSubplot at 0x1172d5d68>"
      ]
     },
     "execution_count": 75,
     "metadata": {},
     "output_type": "execute_result"
    },
    {
     "data": {
      "image/png": "[encoded data removed]",
      "text/plain": [
       "<Figure size 432x288 with 1 Axes>"
      ]
     },
     "metadata": {},
     "output_type": "display_data"
    }
   ],
   "source": [
    "country_goal_mean.plot(kind='bar')"
   ]
  },
  {
   "cell_type": "markdown",
   "metadata": {},
   "source": [
    "- We can see that China has highest mean for pledge goal. "
   ]
  },
  {
   "cell_type": "markdown",
   "metadata": {},
   "source": [
    "##### Pledge analysis"
   ]
  },
  {
   "cell_type": "code",
   "execution_count": 76,
   "metadata": {},
   "outputs": [],
   "source": [
    "country_pledge_mean = train_X.groupby('country').usd_pledged_real.mean()"
   ]
  },
  {
   "cell_type": "code",
   "execution_count": 77,
   "metadata": {},
   "outputs": [
    {
     "data": {
      "text/plain": [
       "country\n",
       "AT      17934.056501\n",
       "AU       6157.430395\n",
       "BE       7489.375765\n",
       "CA       6050.298958\n",
       "CH      16822.932921\n",
       "DE       9655.274530\n",
       "DK       7764.887793\n",
       "ES       5609.573205\n",
       "FR      11932.800660\n",
       "GB       7215.567072\n",
       "HK      14190.219772\n",
       "IE       5389.897776\n",
       "IT       6304.390289\n",
       "JP       3035.643750\n",
       "LU       7773.127451\n",
       "MX       1446.290088\n",
       "N,0\"     2211.910503\n",
       "NL       8676.802941\n",
       "NO       3854.370156\n",
       "NZ       5271.519726\n",
       "SE       7792.187644\n",
       "SG       9675.786005\n",
       "US       9669.771843\n",
       "Name: usd_pledged_real, dtype: float64"
      ]
     },
     "execution_count": 77,
     "metadata": {},
     "output_type": "execute_result"
    }
   ],
   "source": [
    "country_pledge_mean"
   ]
  },
  {
   "cell_type": "code",
   "execution_count": 78,
   "metadata": {},
   "outputs": [
    {
     "data": {
      "text/plain": [
       "<matplotlib.axes._subplots.AxesSubplot at 0x11b1f7a58>"
      ]
     },
     "execution_count": 78,
     "metadata": {},
     "output_type": "execute_result"
    },
    {
     "data": {
      "image/png": "[encoded data removed]",
      "text/plain": [
       "<Figure size 432x288 with 1 Axes>"
      ]
     },
     "metadata": {},
     "output_type": "display_data"
    }
   ],
   "source": [
    "country_pledge_mean.plot(kind = 'bar')"
   ]
  },
  {
   "cell_type": "code",
   "execution_count": 79,
   "metadata": {},
   "outputs": [
    {
     "data": {
      "text/plain": [
       "<matplotlib.legend.Legend at 0x11c30b518>"
      ]
     },
     "execution_count": 79,
     "metadata": {},
     "output_type": "execute_result"
    },
    {
     "data": {
      "image/png": "[encoded data removed]",
      "text/plain": [
       "<Figure size 864x432 with 1 Axes>"
      ]
     },
     "metadata": {},
     "output_type": "display_data"
    }
   ],
   "source": [
    "plt.figure(figsize = (12,6))\n",
    "plt.plot(country_pledge_mean)\n",
    "plt.plot(country_goal_mean)\n",
    "plt.legend()"
   ]
  },
  {
   "cell_type": "markdown",
   "metadata": {},
   "source": [
    "- Here we see that None of the countries are able to meet their avergae pledge.\n",
    "- Singapore, Hong Kong and Japan have the lowest goal/pledge ratio."
   ]
  },
  {
   "cell_type": "markdown",
   "metadata": {},
   "source": [
    "##### Duration Analysis"
   ]
  },
  {
   "cell_type": "code",
   "execution_count": 80,
   "metadata": {},
   "outputs": [],
   "source": [
    "train_X = train_X.assign(launched_date = train_X.launched.apply(lambda x: x.split(\" \")[0]))"
   ]
  },
  {
   "cell_type": "code",
   "execution_count": 81,
   "metadata": {},
   "outputs": [],
   "source": [
    "start = pd.to_datetime(train_X['launched_date'])\n",
    "end = pd.to_datetime(train_X['deadline'])\n",
    "months = ((end-start)/np.timedelta64(1,'M') + 1).astype(int)"
   ]
  },
  {
   "cell_type": "code",
   "execution_count": 82,
   "metadata": {},
   "outputs": [],
   "source": [
    "train_X = train_X.assign(duration_months = months)"
   ]
  },
  {
   "cell_type": "code",
   "execution_count": 83,
   "metadata": {},
   "outputs": [],
   "source": [
    "all_successful = train_X.loc[train_Y.state == 'successful']"
   ]
  },
  {
   "cell_type": "code",
   "execution_count": 84,
   "metadata": {},
   "outputs": [],
   "source": [
    "groupby_duration_success = all_successful.groupby('duration_months')['ID'].count()\n",
    "groupby_duration_all = train_X.groupby('duration_months')['ID'].count()\n",
    "duration_success_rate = groupby_duration_success/groupby_duration_all*100"
   ]
  },
  {
   "cell_type": "code",
   "execution_count": 85,
   "metadata": {},
   "outputs": [],
   "source": [
    "duration_success_rate = duration_success_rate.fillna(0)"
   ]
  },
  {
   "cell_type": "code",
   "execution_count": 86,
   "metadata": {},
   "outputs": [
    {
     "data": {
      "text/plain": [
       "duration_months\n",
       "1      36.110739\n",
       "2      34.033548\n",
       "3      33.827666\n",
       "4      31.250000\n",
       "485     0.000000\n",
       "488     0.000000\n",
       "489     0.000000\n",
       "550     0.000000\n",
       "Name: ID, dtype: float64"
      ]
     },
     "execution_count": 86,
     "metadata": {},
     "output_type": "execute_result"
    }
   ],
   "source": [
    "duration_success_rate"
   ]
  },
  {
   "cell_type": "code",
   "execution_count": 87,
   "metadata": {},
   "outputs": [
    {
     "data": {
      "image/png": "[encoded data removed]",
      "text/plain": [
       "<Figure size 1080x432 with 1 Axes>"
      ]
     },
     "metadata": {},
     "output_type": "display_data"
    }
   ],
   "source": [
    "plt.figure(figsize = (15,6))\n",
    "plt.title('duration wise Project Success rate')\n",
    "sns.barplot(x = duration_success_rate.keys(), y = duration_success_rate.values)\n",
    "plt.xlabel('Duration in months')\n",
    "plt.ylabel('% value')\n",
    "plt.show()"
   ]
  },
  {
   "cell_type": "markdown",
   "metadata": {},
   "source": [
    "##### Pledge to Goal ratio"
   ]
  },
  {
   "cell_type": "code",
   "execution_count": 88,
   "metadata": {},
   "outputs": [],
   "source": [
    "pledge = train_X.usd_pledged_real\n",
    "goal = train_X.usd_goal_real\n",
    "ratio = pledge/goal"
   ]
  },
  {
   "cell_type": "code",
   "execution_count": 89,
   "metadata": {},
   "outputs": [
    {
     "data": {
      "text/plain": [
       "359919    0.000000\n",
       "318366    0.000000\n",
       "370448    0.296667\n",
       "154340    0.053668\n",
       "263982    1.071650\n",
       "32599     0.000200\n",
       "102635    0.000400\n",
       "74410     0.045539\n",
       "278884    0.002000\n",
       "328176    0.336520\n",
       "254193    0.193714\n",
       "120769    0.002769\n",
       "185935    1.025000\n",
       "198518    0.009667\n",
       "131318    1.053336\n",
       "374200    1.044000\n",
       "215201    1.029750\n",
       "35175     0.025000\n",
       "134695    0.007222\n",
       "95986     1.801607\n",
       "377053    0.000000\n",
       "216118    1.016666\n",
       "366824    2.176099\n",
       "268452    0.120000\n",
       "265371    0.170000\n",
       "108771    3.107292\n",
       "166553    0.046250\n",
       "215503    0.011999\n",
       "361738    1.178400\n",
       "231920    0.013839\n",
       "            ...   \n",
       "176091    0.079000\n",
       "336775    2.193141\n",
       "90620     0.000000\n",
       "58933     0.000833\n",
       "365036    0.000000\n",
       "330935    0.370386\n",
       "201887    0.465232\n",
       "239284    2.602000\n",
       "69385     0.060001\n",
       "189642    0.005202\n",
       "361186    1.155795\n",
       "260919    1.473334\n",
       "21288     1.095000\n",
       "2486      0.047272\n",
       "24030     1.061500\n",
       "51294     0.007500\n",
       "283666    1.095533\n",
       "356782    0.000100\n",
       "145040    0.035667\n",
       "22902     0.014923\n",
       "135692    1.021333\n",
       "322088    0.000000\n",
       "271552    1.876462\n",
       "162639    0.000008\n",
       "277873    0.197600\n",
       "300979    0.498500\n",
       "143035    1.460000\n",
       "331948    1.080489\n",
       "231713    1.036364\n",
       "66240     0.046474\n",
       "Length: 272635, dtype: float64"
      ]
     },
     "execution_count": 89,
     "metadata": {},
     "output_type": "execute_result"
    }
   ],
   "source": [
    "ratio"
   ]
  },
  {
   "cell_type": "code",
   "execution_count": 90,
   "metadata": {},
   "outputs": [],
   "source": [
    "train_X = train_X.assign(pledge_goal_ratio = ratio)"
   ]
  },
  {
   "cell_type": "markdown",
   "metadata": {},
   "source": [
    "<b> So after the exploratory analysis, my feature set will consist of:  category, main category, duration_months, usd_goal_real, usd_pledged_real, pledge_goal_ratio, backers and country </b>"
   ]
  },
  {
   "cell_type": "markdown",
   "metadata": {},
   "source": [
    "### Encoding Features"
   ]
  },
  {
   "cell_type": "code",
   "execution_count": 91,
   "metadata": {},
   "outputs": [
    {
     "data": {
      "text/html": [
       "<div>\n",
       "<style scoped>\n",
       "    .dataframe tbody tr th:only-of-type {\n",
       "        vertical-align: middle;\n",
       "    }\n",
       "\n",
       "    .dataframe tbody tr th {\n",
       "        vertical-align: top;\n",
       "    }\n",
       "\n",
       "    .dataframe thead th {\n",
       "        text-align: right;\n",
       "    }\n",
       "</style>\n",
       "<table border=\"1\" class=\"dataframe\">\n",
       "  <thead>\n",
       "    <tr style=\"text-align: right;\">\n",
       "      <th></th>\n",
       "      <th>ID</th>\n",
       "      <th>name</th>\n",
       "      <th>category</th>\n",
       "      <th>main_category</th>\n",
       "      <th>currency</th>\n",
       "      <th>deadline</th>\n",
       "      <th>goal</th>\n",
       "      <th>launched</th>\n",
       "      <th>pledged</th>\n",
       "      <th>backers</th>\n",
       "      <th>country</th>\n",
       "      <th>usd pledged</th>\n",
       "      <th>usd_pledged_real</th>\n",
       "      <th>usd_goal_real</th>\n",
       "      <th>launched_year</th>\n",
       "      <th>launched_month</th>\n",
       "      <th>launched_date</th>\n",
       "      <th>duration_months</th>\n",
       "      <th>pledge_goal_ratio</th>\n",
       "    </tr>\n",
       "  </thead>\n",
       "  <tbody>\n",
       "    <tr>\n",
       "      <th>359919</th>\n",
       "      <td>903624360</td>\n",
       "      <td>Slangster - Global Slang Converter (Canceled)</td>\n",
       "      <td>Apps</td>\n",
       "      <td>Technology</td>\n",
       "      <td>USD</td>\n",
       "      <td>2016-04-23</td>\n",
       "      <td>50000.0</td>\n",
       "      <td>2016-03-24 16:29:13</td>\n",
       "      <td>0.0</td>\n",
       "      <td>0</td>\n",
       "      <td>US</td>\n",
       "      <td>0.00</td>\n",
       "      <td>0.00</td>\n",
       "      <td>50000.00</td>\n",
       "      <td>2016</td>\n",
       "      <td>3</td>\n",
       "      <td>2016-03-24</td>\n",
       "      <td>1</td>\n",
       "      <td>0.000000</td>\n",
       "    </tr>\n",
       "    <tr>\n",
       "      <th>318366</th>\n",
       "      <td>691611007</td>\n",
       "      <td>House of Wax, scented wax dipped stuffed anima...</td>\n",
       "      <td>Crafts</td>\n",
       "      <td>Crafts</td>\n",
       "      <td>USD</td>\n",
       "      <td>2015-02-09</td>\n",
       "      <td>1200.0</td>\n",
       "      <td>2015-01-13 05:08:35</td>\n",
       "      <td>0.0</td>\n",
       "      <td>0</td>\n",
       "      <td>US</td>\n",
       "      <td>0.00</td>\n",
       "      <td>0.00</td>\n",
       "      <td>1200.00</td>\n",
       "      <td>2015</td>\n",
       "      <td>1</td>\n",
       "      <td>2015-01-13</td>\n",
       "      <td>1</td>\n",
       "      <td>0.000000</td>\n",
       "    </tr>\n",
       "    <tr>\n",
       "      <th>370448</th>\n",
       "      <td>957512628</td>\n",
       "      <td>ZDS : Zombie Defense Simulation</td>\n",
       "      <td>Video Games</td>\n",
       "      <td>Games</td>\n",
       "      <td>USD</td>\n",
       "      <td>2015-12-18</td>\n",
       "      <td>300.0</td>\n",
       "      <td>2015-11-18 01:25:02</td>\n",
       "      <td>89.0</td>\n",
       "      <td>16</td>\n",
       "      <td>US</td>\n",
       "      <td>89.00</td>\n",
       "      <td>89.00</td>\n",
       "      <td>300.00</td>\n",
       "      <td>2015</td>\n",
       "      <td>11</td>\n",
       "      <td>2015-11-18</td>\n",
       "      <td>1</td>\n",
       "      <td>0.296667</td>\n",
       "    </tr>\n",
       "    <tr>\n",
       "      <th>154340</th>\n",
       "      <td>1784679909</td>\n",
       "      <td>EDC Snowflake Spinner</td>\n",
       "      <td>Textiles</td>\n",
       "      <td>Art</td>\n",
       "      <td>CAD</td>\n",
       "      <td>2017-04-09</td>\n",
       "      <td>3000.0</td>\n",
       "      <td>2017-03-10 21:59:41</td>\n",
       "      <td>161.0</td>\n",
       "      <td>3</td>\n",
       "      <td>CA</td>\n",
       "      <td>233.40</td>\n",
       "      <td>121.65</td>\n",
       "      <td>2266.72</td>\n",
       "      <td>2017</td>\n",
       "      <td>3</td>\n",
       "      <td>2017-03-10</td>\n",
       "      <td>1</td>\n",
       "      <td>0.053668</td>\n",
       "    </tr>\n",
       "    <tr>\n",
       "      <th>263982</th>\n",
       "      <td>412532783</td>\n",
       "      <td>Bowery &amp; Fourth - Business wear for the Urban ...</td>\n",
       "      <td>Ready-to-wear</td>\n",
       "      <td>Fashion</td>\n",
       "      <td>DKK</td>\n",
       "      <td>2015-12-11</td>\n",
       "      <td>100000.0</td>\n",
       "      <td>2015-10-28 14:42:56</td>\n",
       "      <td>107165.0</td>\n",
       "      <td>106</td>\n",
       "      <td>DK</td>\n",
       "      <td>15882.14</td>\n",
       "      <td>15728.10</td>\n",
       "      <td>14676.53</td>\n",
       "      <td>2015</td>\n",
       "      <td>10</td>\n",
       "      <td>2015-10-28</td>\n",
       "      <td>2</td>\n",
       "      <td>1.071650</td>\n",
       "    </tr>\n",
       "  </tbody>\n",
       "</table>\n",
       "</div>"
      ],
      "text/plain": [
       "                ID                                               name  \\\n",
       "359919   903624360      Slangster - Global Slang Converter (Canceled)   \n",
       "318366   691611007  House of Wax, scented wax dipped stuffed anima...   \n",
       "370448   957512628                    ZDS : Zombie Defense Simulation   \n",
       "154340  1784679909                              EDC Snowflake Spinner   \n",
       "263982   412532783  Bowery & Fourth - Business wear for the Urban ...   \n",
       "\n",
       "             category main_category currency    deadline      goal  \\\n",
       "359919           Apps    Technology      USD  2016-04-23   50000.0   \n",
       "318366         Crafts        Crafts      USD  2015-02-09    1200.0   \n",
       "370448    Video Games         Games      USD  2015-12-18     300.0   \n",
       "154340       Textiles           Art      CAD  2017-04-09    3000.0   \n",
       "263982  Ready-to-wear       Fashion      DKK  2015-12-11  100000.0   \n",
       "\n",
       "                   launched   pledged  backers country  usd pledged  \\\n",
       "359919  2016-03-24 16:29:13       0.0        0      US         0.00   \n",
       "318366  2015-01-13 05:08:35       0.0        0      US         0.00   \n",
       "370448  2015-11-18 01:25:02      89.0       16      US        89.00   \n",
       "154340  2017-03-10 21:59:41     161.0        3      CA       233.40   \n",
       "263982  2015-10-28 14:42:56  107165.0      106      DK     15882.14   \n",
       "\n",
       "        usd_pledged_real  usd_goal_real  launched_year  launched_month  \\\n",
       "359919              0.00       50000.00           2016               3   \n",
       "318366              0.00        1200.00           2015               1   \n",
       "370448             89.00         300.00           2015              11   \n",
       "154340            121.65        2266.72           2017               3   \n",
       "263982          15728.10       14676.53           2015              10   \n",
       "\n",
       "       launched_date  duration_months  pledge_goal_ratio  \n",
       "359919    2016-03-24                1           0.000000  \n",
       "318366    2015-01-13                1           0.000000  \n",
       "370448    2015-11-18                1           0.296667  \n",
       "154340    2017-03-10                1           0.053668  \n",
       "263982    2015-10-28                2           1.071650  "
      ]
     },
     "execution_count": 91,
     "metadata": {},
     "output_type": "execute_result"
    }
   ],
   "source": [
    "train_X.head()"
   ]
  },
  {
   "cell_type": "code",
   "execution_count": 92,
   "metadata": {},
   "outputs": [],
   "source": [
    "from sklearn import preprocessing"
   ]
  },
  {
   "cell_type": "code",
   "execution_count": 93,
   "metadata": {},
   "outputs": [],
   "source": [
    "# To prepare the validation and test dataframe\n",
    "def prepare_dataset(dataframe):\n",
    "    \n",
    "    # Adding duration_months\n",
    "    start = pd.to_datetime(dataframe['launched'].apply(lambda x: x.split(\" \")[0]))\n",
    "    end = pd.to_datetime(dataframe['deadline'])\n",
    "    months = ((end-start)/np.timedelta64(1,'M') + 1).astype(int)\n",
    "    dataframe = dataframe.assign(duration_months = months)\n",
    "    \n",
    "    # Adding pledge_goal_ratio\n",
    "    \n",
    "    pledge = dataframe.usd_pledged_real\n",
    "    goal = dataframe.usd_goal_real\n",
    "    ratio = pledge/goal\n",
    "    dataframe = dataframe.assign(pledge_goal_ratio = ratio)\n",
    "    \n",
    "    return dataframe"
   ]
  },
  {
   "cell_type": "code",
   "execution_count": 94,
   "metadata": {},
   "outputs": [],
   "source": [
    "features = ['category','main_category','duration_months','usd_goal_real','usd_pledged_real','pledge_goal_ratio','backers','country']"
   ]
  },
  {
   "cell_type": "code",
   "execution_count": 95,
   "metadata": {},
   "outputs": [
    {
     "data": {
      "text/plain": [
       "['category',\n",
       " 'main_category',\n",
       " 'duration_months',\n",
       " 'usd_goal_real',\n",
       " 'usd_pledged_real',\n",
       " 'pledge_goal_ratio',\n",
       " 'backers',\n",
       " 'country']"
      ]
     },
     "execution_count": 95,
     "metadata": {},
     "output_type": "execute_result"
    }
   ],
   "source": [
    "features"
   ]
  },
  {
   "cell_type": "code",
   "execution_count": 99,
   "metadata": {},
   "outputs": [],
   "source": [
    "# Getting only the required columns for our table\n",
    "\n",
    "def get_features(dataframe):\n",
    "    \n",
    "    new_df = dataframe.loc[:,features]\n",
    "    return new_df"
   ]
  },
  {
   "cell_type": "code",
   "execution_count": 96,
   "metadata": {},
   "outputs": [],
   "source": [
    "def encode_features(dataframe):\n",
    "    for f in features:\n",
    "        le = preprocessing.LabelEncoder()\n",
    "        le = le.fit(dataframe[f])\n",
    "        dataframe[f] = le.transform(dataframe[f])\n",
    "    return dataframe"
   ]
  },
  {
   "cell_type": "code",
   "execution_count": 97,
   "metadata": {},
   "outputs": [],
   "source": [
    "train_X = encode_features(train_X)"
   ]
  },
  {
   "cell_type": "code",
   "execution_count": 98,
   "metadata": {},
   "outputs": [
    {
     "data": {
      "text/html": [
       "<div>\n",
       "<style scoped>\n",
       "    .dataframe tbody tr th:only-of-type {\n",
       "        vertical-align: middle;\n",
       "    }\n",
       "\n",
       "    .dataframe tbody tr th {\n",
       "        vertical-align: top;\n",
       "    }\n",
       "\n",
       "    .dataframe thead th {\n",
       "        text-align: right;\n",
       "    }\n",
       "</style>\n",
       "<table border=\"1\" class=\"dataframe\">\n",
       "  <thead>\n",
       "    <tr style=\"text-align: right;\">\n",
       "      <th></th>\n",
       "      <th>ID</th>\n",
       "      <th>name</th>\n",
       "      <th>category</th>\n",
       "      <th>main_category</th>\n",
       "      <th>currency</th>\n",
       "      <th>deadline</th>\n",
       "      <th>goal</th>\n",
       "      <th>launched</th>\n",
       "      <th>pledged</th>\n",
       "      <th>backers</th>\n",
       "      <th>country</th>\n",
       "      <th>usd pledged</th>\n",
       "      <th>usd_pledged_real</th>\n",
       "      <th>usd_goal_real</th>\n",
       "      <th>launched_year</th>\n",
       "      <th>launched_month</th>\n",
       "      <th>launched_date</th>\n",
       "      <th>duration_months</th>\n",
       "      <th>pledge_goal_ratio</th>\n",
       "    </tr>\n",
       "  </thead>\n",
       "  <tbody>\n",
       "    <tr>\n",
       "      <th>359919</th>\n",
       "      <td>903624360</td>\n",
       "      <td>Slangster - Global Slang Converter (Canceled)</td>\n",
       "      <td>8</td>\n",
       "      <td>13</td>\n",
       "      <td>USD</td>\n",
       "      <td>2016-04-23</td>\n",
       "      <td>50000.0</td>\n",
       "      <td>2016-03-24 16:29:13</td>\n",
       "      <td>0.0</td>\n",
       "      <td>0</td>\n",
       "      <td>22</td>\n",
       "      <td>0.0</td>\n",
       "      <td>0</td>\n",
       "      <td>34474</td>\n",
       "      <td>2016</td>\n",
       "      <td>3</td>\n",
       "      <td>2016-03-24</td>\n",
       "      <td>0</td>\n",
       "      <td>0</td>\n",
       "    </tr>\n",
       "    <tr>\n",
       "      <th>318366</th>\n",
       "      <td>691611007</td>\n",
       "      <td>House of Wax, scented wax dipped stuffed anima...</td>\n",
       "      <td>32</td>\n",
       "      <td>2</td>\n",
       "      <td>USD</td>\n",
       "      <td>2015-02-09</td>\n",
       "      <td>1200.0</td>\n",
       "      <td>2015-01-13 05:08:35</td>\n",
       "      <td>0.0</td>\n",
       "      <td>0</td>\n",
       "      <td>22</td>\n",
       "      <td>0.0</td>\n",
       "      <td>0</td>\n",
       "      <td>7774</td>\n",
       "      <td>2015</td>\n",
       "      <td>1</td>\n",
       "      <td>2015-01-13</td>\n",
       "      <td>0</td>\n",
       "      <td>0</td>\n",
       "    </tr>\n",
       "  </tbody>\n",
       "</table>\n",
       "</div>"
      ],
      "text/plain": [
       "               ID                                               name  \\\n",
       "359919  903624360      Slangster - Global Slang Converter (Canceled)   \n",
       "318366  691611007  House of Wax, scented wax dipped stuffed anima...   \n",
       "\n",
       "        category  main_category currency    deadline     goal  \\\n",
       "359919         8             13      USD  2016-04-23  50000.0   \n",
       "318366        32              2      USD  2015-02-09   1200.0   \n",
       "\n",
       "                   launched  pledged  backers  country  usd pledged  \\\n",
       "359919  2016-03-24 16:29:13      0.0        0       22          0.0   \n",
       "318366  2015-01-13 05:08:35      0.0        0       22          0.0   \n",
       "\n",
       "        usd_pledged_real  usd_goal_real  launched_year  launched_month  \\\n",
       "359919                 0          34474           2016               3   \n",
       "318366                 0           7774           2015               1   \n",
       "\n",
       "       launched_date  duration_months  pledge_goal_ratio  \n",
       "359919    2016-03-24                0                  0  \n",
       "318366    2015-01-13                0                  0  "
      ]
     },
     "execution_count": 98,
     "metadata": {},
     "output_type": "execute_result"
    }
   ],
   "source": [
    "train_X.head(2)"
   ]
  },
  {
   "cell_type": "code",
   "execution_count": 100,
   "metadata": {},
   "outputs": [],
   "source": [
    "train_X = get_features(train_X)"
   ]
  },
  {
   "cell_type": "code",
   "execution_count": 101,
   "metadata": {},
   "outputs": [
    {
     "data": {
      "text/html": [
       "<div>\n",
       "<style scoped>\n",
       "    .dataframe tbody tr th:only-of-type {\n",
       "        vertical-align: middle;\n",
       "    }\n",
       "\n",
       "    .dataframe tbody tr th {\n",
       "        vertical-align: top;\n",
       "    }\n",
       "\n",
       "    .dataframe thead th {\n",
       "        text-align: right;\n",
       "    }\n",
       "</style>\n",
       "<table border=\"1\" class=\"dataframe\">\n",
       "  <thead>\n",
       "    <tr style=\"text-align: right;\">\n",
       "      <th></th>\n",
       "      <th>category</th>\n",
       "      <th>main_category</th>\n",
       "      <th>duration_months</th>\n",
       "      <th>usd_goal_real</th>\n",
       "      <th>usd_pledged_real</th>\n",
       "      <th>pledge_goal_ratio</th>\n",
       "      <th>backers</th>\n",
       "      <th>country</th>\n",
       "    </tr>\n",
       "  </thead>\n",
       "  <tbody>\n",
       "    <tr>\n",
       "      <th>359919</th>\n",
       "      <td>8</td>\n",
       "      <td>13</td>\n",
       "      <td>0</td>\n",
       "      <td>34474</td>\n",
       "      <td>0</td>\n",
       "      <td>0</td>\n",
       "      <td>0</td>\n",
       "      <td>22</td>\n",
       "    </tr>\n",
       "    <tr>\n",
       "      <th>318366</th>\n",
       "      <td>32</td>\n",
       "      <td>2</td>\n",
       "      <td>0</td>\n",
       "      <td>7774</td>\n",
       "      <td>0</td>\n",
       "      <td>0</td>\n",
       "      <td>0</td>\n",
       "      <td>22</td>\n",
       "    </tr>\n",
       "    <tr>\n",
       "      <th>370448</th>\n",
       "      <td>148</td>\n",
       "      <td>8</td>\n",
       "      <td>0</td>\n",
       "      <td>2380</td>\n",
       "      <td>5323</td>\n",
       "      <td>54086</td>\n",
       "      <td>16</td>\n",
       "      <td>22</td>\n",
       "    </tr>\n",
       "    <tr>\n",
       "      <th>154340</th>\n",
       "      <td>140</td>\n",
       "      <td>0</td>\n",
       "      <td>0</td>\n",
       "      <td>11261</td>\n",
       "      <td>6553</td>\n",
       "      <td>30343</td>\n",
       "      <td>3</td>\n",
       "      <td>3</td>\n",
       "    </tr>\n",
       "    <tr>\n",
       "      <th>263982</th>\n",
       "      <td>121</td>\n",
       "      <td>5</td>\n",
       "      <td>1</td>\n",
       "      <td>26268</td>\n",
       "      <td>59867</td>\n",
       "      <td>80483</td>\n",
       "      <td>106</td>\n",
       "      <td>6</td>\n",
       "    </tr>\n",
       "  </tbody>\n",
       "</table>\n",
       "</div>"
      ],
      "text/plain": [
       "        category  main_category  duration_months  usd_goal_real  \\\n",
       "359919         8             13                0          34474   \n",
       "318366        32              2                0           7774   \n",
       "370448       148              8                0           2380   \n",
       "154340       140              0                0          11261   \n",
       "263982       121              5                1          26268   \n",
       "\n",
       "        usd_pledged_real  pledge_goal_ratio  backers  country  \n",
       "359919                 0                  0        0       22  \n",
       "318366                 0                  0        0       22  \n",
       "370448              5323              54086       16       22  \n",
       "154340              6553              30343        3        3  \n",
       "263982             59867              80483      106        6  "
      ]
     },
     "execution_count": 101,
     "metadata": {},
     "output_type": "execute_result"
    }
   ],
   "source": [
    "train_X.head()"
   ]
  },
  {
   "cell_type": "markdown",
   "metadata": {},
   "source": [
    "## Training and Predictions"
   ]
  },
  {
   "cell_type": "markdown",
   "metadata": {},
   "source": [
    "###### Hyperparameter optimization is done on Validation Set. So preparing the validation set"
   ]
  },
  {
   "cell_type": "code",
   "execution_count": 102,
   "metadata": {},
   "outputs": [
    {
     "data": {
      "text/html": [
       "<div>\n",
       "<style scoped>\n",
       "    .dataframe tbody tr th:only-of-type {\n",
       "        vertical-align: middle;\n",
       "    }\n",
       "\n",
       "    .dataframe tbody tr th {\n",
       "        vertical-align: top;\n",
       "    }\n",
       "\n",
       "    .dataframe thead th {\n",
       "        text-align: right;\n",
       "    }\n",
       "</style>\n",
       "<table border=\"1\" class=\"dataframe\">\n",
       "  <thead>\n",
       "    <tr style=\"text-align: right;\">\n",
       "      <th></th>\n",
       "      <th>ID</th>\n",
       "      <th>name</th>\n",
       "      <th>category</th>\n",
       "      <th>main_category</th>\n",
       "      <th>currency</th>\n",
       "      <th>deadline</th>\n",
       "      <th>goal</th>\n",
       "      <th>launched</th>\n",
       "      <th>pledged</th>\n",
       "      <th>backers</th>\n",
       "      <th>country</th>\n",
       "      <th>usd pledged</th>\n",
       "      <th>usd_pledged_real</th>\n",
       "      <th>usd_goal_real</th>\n",
       "    </tr>\n",
       "  </thead>\n",
       "  <tbody>\n",
       "    <tr>\n",
       "      <th>172929</th>\n",
       "      <td>1879532680</td>\n",
       "      <td>appsolutely fun for everyone</td>\n",
       "      <td>Apps</td>\n",
       "      <td>Technology</td>\n",
       "      <td>CAD</td>\n",
       "      <td>2017-03-16</td>\n",
       "      <td>25000.0</td>\n",
       "      <td>2017-02-14 22:57:23</td>\n",
       "      <td>0.0</td>\n",
       "      <td>0</td>\n",
       "      <td>CA</td>\n",
       "      <td>0.00</td>\n",
       "      <td>0.00</td>\n",
       "      <td>18775.82</td>\n",
       "    </tr>\n",
       "    <tr>\n",
       "      <th>79206</th>\n",
       "      <td>1402933213</td>\n",
       "      <td>Recording and release of new single</td>\n",
       "      <td>Rock</td>\n",
       "      <td>Music</td>\n",
       "      <td>GBP</td>\n",
       "      <td>2016-07-24</td>\n",
       "      <td>600.0</td>\n",
       "      <td>2016-07-06 15:31:09</td>\n",
       "      <td>107.0</td>\n",
       "      <td>6</td>\n",
       "      <td>GB</td>\n",
       "      <td>47.71</td>\n",
       "      <td>140.89</td>\n",
       "      <td>790.02</td>\n",
       "    </tr>\n",
       "  </tbody>\n",
       "</table>\n",
       "</div>"
      ],
      "text/plain": [
       "                ID                                 name category  \\\n",
       "172929  1879532680         appsolutely fun for everyone     Apps   \n",
       "79206   1402933213  Recording and release of new single     Rock   \n",
       "\n",
       "       main_category currency    deadline     goal             launched  \\\n",
       "172929    Technology      CAD  2017-03-16  25000.0  2017-02-14 22:57:23   \n",
       "79206          Music      GBP  2016-07-24    600.0  2016-07-06 15:31:09   \n",
       "\n",
       "        pledged  backers country  usd pledged  usd_pledged_real  usd_goal_real  \n",
       "172929      0.0        0      CA         0.00              0.00       18775.82  \n",
       "79206     107.0        6      GB        47.71            140.89         790.02  "
      ]
     },
     "execution_count": 102,
     "metadata": {},
     "output_type": "execute_result"
    }
   ],
   "source": [
    "val_X.head(2)"
   ]
  },
  {
   "cell_type": "code",
   "execution_count": 103,
   "metadata": {},
   "outputs": [],
   "source": [
    "val_X = prepare_dataset(val_X)\n",
    "val_X = get_features(val_X)\n",
    "val_X = encode_features(val_X)"
   ]
  },
  {
   "cell_type": "code",
   "execution_count": 104,
   "metadata": {},
   "outputs": [
    {
     "data": {
      "text/html": [
       "<div>\n",
       "<style scoped>\n",
       "    .dataframe tbody tr th:only-of-type {\n",
       "        vertical-align: middle;\n",
       "    }\n",
       "\n",
       "    .dataframe tbody tr th {\n",
       "        vertical-align: top;\n",
       "    }\n",
       "\n",
       "    .dataframe thead th {\n",
       "        text-align: right;\n",
       "    }\n",
       "</style>\n",
       "<table border=\"1\" class=\"dataframe\">\n",
       "  <thead>\n",
       "    <tr style=\"text-align: right;\">\n",
       "      <th></th>\n",
       "      <th>category</th>\n",
       "      <th>main_category</th>\n",
       "      <th>duration_months</th>\n",
       "      <th>usd_goal_real</th>\n",
       "      <th>usd_pledged_real</th>\n",
       "      <th>pledge_goal_ratio</th>\n",
       "      <th>backers</th>\n",
       "      <th>country</th>\n",
       "    </tr>\n",
       "  </thead>\n",
       "  <tbody>\n",
       "    <tr>\n",
       "      <th>172929</th>\n",
       "      <td>8</td>\n",
       "      <td>13</td>\n",
       "      <td>0</td>\n",
       "      <td>10532</td>\n",
       "      <td>0</td>\n",
       "      <td>0</td>\n",
       "      <td>0</td>\n",
       "      <td>3</td>\n",
       "    </tr>\n",
       "    <tr>\n",
       "      <th>79206</th>\n",
       "      <td>125</td>\n",
       "      <td>10</td>\n",
       "      <td>0</td>\n",
       "      <td>2017</td>\n",
       "      <td>2954</td>\n",
       "      <td>14265</td>\n",
       "      <td>6</td>\n",
       "      <td>9</td>\n",
       "    </tr>\n",
       "  </tbody>\n",
       "</table>\n",
       "</div>"
      ],
      "text/plain": [
       "        category  main_category  duration_months  usd_goal_real  \\\n",
       "172929         8             13                0          10532   \n",
       "79206        125             10                0           2017   \n",
       "\n",
       "        usd_pledged_real  pledge_goal_ratio  backers  country  \n",
       "172929                 0                  0        0        3  \n",
       "79206               2954              14265        6        9  "
      ]
     },
     "execution_count": 104,
     "metadata": {},
     "output_type": "execute_result"
    }
   ],
   "source": [
    "val_X.head(2)"
   ]
  },
  {
   "cell_type": "code",
   "execution_count": 105,
   "metadata": {},
   "outputs": [],
   "source": [
    "sample_len = int(.05*len(val_X)) # Taking only 2% of data for setting hyperparameters\n",
    "sample_X = val_X[:sample_len]\n",
    "sample_Y = val_Y[:sample_len]"
   ]
  },
  {
   "cell_type": "code",
   "execution_count": 106,
   "metadata": {},
   "outputs": [
    {
     "name": "stdout",
     "output_type": "stream",
     "text": [
      "(3407, 8)\n",
      "(3407, 1)\n"
     ]
    }
   ],
   "source": [
    "print(sample_X.shape)\n",
    "print(sample_Y.shape)"
   ]
  },
  {
   "cell_type": "code",
   "execution_count": 107,
   "metadata": {},
   "outputs": [
    {
     "data": {
      "text/html": [
       "<div>\n",
       "<style scoped>\n",
       "    .dataframe tbody tr th:only-of-type {\n",
       "        vertical-align: middle;\n",
       "    }\n",
       "\n",
       "    .dataframe tbody tr th {\n",
       "        vertical-align: top;\n",
       "    }\n",
       "\n",
       "    .dataframe thead th {\n",
       "        text-align: right;\n",
       "    }\n",
       "</style>\n",
       "<table border=\"1\" class=\"dataframe\">\n",
       "  <thead>\n",
       "    <tr style=\"text-align: right;\">\n",
       "      <th></th>\n",
       "      <th>category</th>\n",
       "      <th>main_category</th>\n",
       "      <th>duration_months</th>\n",
       "      <th>usd_goal_real</th>\n",
       "      <th>usd_pledged_real</th>\n",
       "      <th>pledge_goal_ratio</th>\n",
       "      <th>backers</th>\n",
       "      <th>country</th>\n",
       "    </tr>\n",
       "  </thead>\n",
       "  <tbody>\n",
       "    <tr>\n",
       "      <th>172929</th>\n",
       "      <td>8</td>\n",
       "      <td>13</td>\n",
       "      <td>0</td>\n",
       "      <td>10532</td>\n",
       "      <td>0</td>\n",
       "      <td>0</td>\n",
       "      <td>0</td>\n",
       "      <td>3</td>\n",
       "    </tr>\n",
       "    <tr>\n",
       "      <th>79206</th>\n",
       "      <td>125</td>\n",
       "      <td>10</td>\n",
       "      <td>0</td>\n",
       "      <td>2017</td>\n",
       "      <td>2954</td>\n",
       "      <td>14265</td>\n",
       "      <td>6</td>\n",
       "      <td>9</td>\n",
       "    </tr>\n",
       "    <tr>\n",
       "      <th>258916</th>\n",
       "      <td>42</td>\n",
       "      <td>10</td>\n",
       "      <td>0</td>\n",
       "      <td>1550</td>\n",
       "      <td>4826</td>\n",
       "      <td>19709</td>\n",
       "      <td>19</td>\n",
       "      <td>22</td>\n",
       "    </tr>\n",
       "    <tr>\n",
       "      <th>40936</th>\n",
       "      <td>72</td>\n",
       "      <td>10</td>\n",
       "      <td>1</td>\n",
       "      <td>10713</td>\n",
       "      <td>0</td>\n",
       "      <td>0</td>\n",
       "      <td>0</td>\n",
       "      <td>22</td>\n",
       "    </tr>\n",
       "    <tr>\n",
       "      <th>337613</th>\n",
       "      <td>90</td>\n",
       "      <td>10</td>\n",
       "      <td>0</td>\n",
       "      <td>10409</td>\n",
       "      <td>22364</td>\n",
       "      <td>25245</td>\n",
       "      <td>139</td>\n",
       "      <td>22</td>\n",
       "    </tr>\n",
       "  </tbody>\n",
       "</table>\n",
       "</div>"
      ],
      "text/plain": [
       "        category  main_category  duration_months  usd_goal_real  \\\n",
       "172929         8             13                0          10532   \n",
       "79206        125             10                0           2017   \n",
       "258916        42             10                0           1550   \n",
       "40936         72             10                1          10713   \n",
       "337613        90             10                0          10409   \n",
       "\n",
       "        usd_pledged_real  pledge_goal_ratio  backers  country  \n",
       "172929                 0                  0        0        3  \n",
       "79206               2954              14265        6        9  \n",
       "258916              4826              19709       19       22  \n",
       "40936                  0                  0        0       22  \n",
       "337613             22364              25245      139       22  "
      ]
     },
     "execution_count": 107,
     "metadata": {},
     "output_type": "execute_result"
    }
   ],
   "source": [
    "sample_X.head()"
   ]
  },
  {
   "cell_type": "code",
   "execution_count": 108,
   "metadata": {},
   "outputs": [
    {
     "data": {
      "text/html": [
       "<div>\n",
       "<style scoped>\n",
       "    .dataframe tbody tr th:only-of-type {\n",
       "        vertical-align: middle;\n",
       "    }\n",
       "\n",
       "    .dataframe tbody tr th {\n",
       "        vertical-align: top;\n",
       "    }\n",
       "\n",
       "    .dataframe thead th {\n",
       "        text-align: right;\n",
       "    }\n",
       "</style>\n",
       "<table border=\"1\" class=\"dataframe\">\n",
       "  <thead>\n",
       "    <tr style=\"text-align: right;\">\n",
       "      <th></th>\n",
       "      <th>state</th>\n",
       "    </tr>\n",
       "  </thead>\n",
       "  <tbody>\n",
       "    <tr>\n",
       "      <th>172929</th>\n",
       "      <td>failed</td>\n",
       "    </tr>\n",
       "    <tr>\n",
       "      <th>79206</th>\n",
       "      <td>failed</td>\n",
       "    </tr>\n",
       "    <tr>\n",
       "      <th>258916</th>\n",
       "      <td>failed</td>\n",
       "    </tr>\n",
       "    <tr>\n",
       "      <th>40936</th>\n",
       "      <td>failed</td>\n",
       "    </tr>\n",
       "    <tr>\n",
       "      <th>337613</th>\n",
       "      <td>successful</td>\n",
       "    </tr>\n",
       "  </tbody>\n",
       "</table>\n",
       "</div>"
      ],
      "text/plain": [
       "             state\n",
       "172929      failed\n",
       "79206       failed\n",
       "258916      failed\n",
       "40936       failed\n",
       "337613  successful"
      ]
     },
     "execution_count": 108,
     "metadata": {},
     "output_type": "execute_result"
    }
   ],
   "source": [
    "sample_Y.head()"
   ]
  },
  {
   "cell_type": "code",
   "execution_count": 109,
   "metadata": {},
   "outputs": [],
   "source": [
    "# Prepare test data\n",
    "\n",
    "test_X = prepare_dataset(test_X)\n",
    "test_X = get_features(test_X)\n",
    "test_X = encode_features(test_X)"
   ]
  },
  {
   "cell_type": "markdown",
   "metadata": {},
   "source": [
    "### Random Forest Classifier"
   ]
  },
  {
   "cell_type": "code",
   "execution_count": 110,
   "metadata": {},
   "outputs": [],
   "source": [
    "from sklearn.ensemble import RandomForestClassifier\n",
    "from sklearn.metrics import make_scorer, accuracy_score\n",
    "from sklearn.model_selection import GridSearchCV"
   ]
  },
  {
   "cell_type": "code",
   "execution_count": 111,
   "metadata": {},
   "outputs": [],
   "source": [
    "clf = RandomForestClassifier()"
   ]
  },
  {
   "cell_type": "code",
   "execution_count": 112,
   "metadata": {},
   "outputs": [],
   "source": [
    "score = make_scorer(accuracy_score)"
   ]
  },
  {
   "cell_type": "code",
   "execution_count": 113,
   "metadata": {},
   "outputs": [],
   "source": [
    "param_grid = {'n_estimators':[3,5,7,9],\n",
    "                  'criterion' : ['gini','entropy'],\n",
    "                  'max_features': ['log2','auto','sqrt'],\n",
    "                  'max_depth' : [1,3,7],\n",
    "                  'min_samples_split':[2,3,5]\n",
    "                 }"
   ]
  },
  {
   "cell_type": "code",
   "execution_count": 114,
   "metadata": {},
   "outputs": [],
   "source": [
    "grid = GridSearchCV(clf,param_grid,score)"
   ]
  },
  {
   "cell_type": "code",
   "execution_count": 115,
   "metadata": {},
   "outputs": [],
   "source": [
    "grid = grid.fit(sample_X,sample_Y.squeeze())"
   ]
  },
  {
   "cell_type": "code",
   "execution_count": 116,
   "metadata": {},
   "outputs": [
    {
     "data": {
      "text/plain": [
       "RandomForestClassifier(bootstrap=True, class_weight=None, criterion='gini',\n",
       "            max_depth=7, max_features='log2', max_leaf_nodes=None,\n",
       "            min_impurity_decrease=0.0, min_impurity_split=None,\n",
       "            min_samples_leaf=1, min_samples_split=3,\n",
       "            min_weight_fraction_leaf=0.0, n_estimators=3, n_jobs=1,\n",
       "            oob_score=False, random_state=None, verbose=0,\n",
       "            warm_start=False)"
      ]
     },
     "execution_count": 116,
     "metadata": {},
     "output_type": "execute_result"
    }
   ],
   "source": [
    "grid.best_estimator_"
   ]
  },
  {
   "cell_type": "code",
   "execution_count": 117,
   "metadata": {},
   "outputs": [],
   "source": [
    "clf = grid.best_estimator_"
   ]
  },
  {
   "cell_type": "code",
   "execution_count": 118,
   "metadata": {},
   "outputs": [
    {
     "data": {
      "text/plain": [
       "RandomForestClassifier(bootstrap=True, class_weight=None, criterion='gini',\n",
       "            max_depth=7, max_features='log2', max_leaf_nodes=None,\n",
       "            min_impurity_decrease=0.0, min_impurity_split=None,\n",
       "            min_samples_leaf=1, min_samples_split=3,\n",
       "            min_weight_fraction_leaf=0.0, n_estimators=3, n_jobs=1,\n",
       "            oob_score=False, random_state=None, verbose=0,\n",
       "            warm_start=False)"
      ]
     },
     "execution_count": 118,
     "metadata": {},
     "output_type": "execute_result"
    }
   ],
   "source": [
    "clf.fit(val_X,val_Y.squeeze())"
   ]
  },
  {
   "cell_type": "code",
   "execution_count": 119,
   "metadata": {},
   "outputs": [
    {
     "name": "stdout",
     "output_type": "stream",
     "text": [
      "0.99568655643422\n"
     ]
    }
   ],
   "source": [
    "predictions = clf.predict(val_X)\n",
    "print(accuracy_score(val_Y,predictions))"
   ]
  },
  {
   "cell_type": "code",
   "execution_count": 120,
   "metadata": {},
   "outputs": [
    {
     "data": {
      "text/plain": [
       "RandomForestClassifier(bootstrap=True, class_weight=None, criterion='gini',\n",
       "            max_depth=7, max_features='log2', max_leaf_nodes=None,\n",
       "            min_impurity_decrease=0.0, min_impurity_split=None,\n",
       "            min_samples_leaf=1, min_samples_split=3,\n",
       "            min_weight_fraction_leaf=0.0, n_estimators=3, n_jobs=1,\n",
       "            oob_score=False, random_state=None, verbose=0,\n",
       "            warm_start=False)"
      ]
     },
     "execution_count": 120,
     "metadata": {},
     "output_type": "execute_result"
    }
   ],
   "source": [
    "# Training on train data\n",
    "\n",
    "clf.fit(train_X,train_Y.squeeze())"
   ]
  },
  {
   "cell_type": "code",
   "execution_count": 121,
   "metadata": {},
   "outputs": [],
   "source": [
    "predictions = clf.predict(test_X)"
   ]
  },
  {
   "cell_type": "code",
   "execution_count": 122,
   "metadata": {},
   "outputs": [],
   "source": [
    "accuracy = accuracy_score(test_Y,predictions)"
   ]
  },
  {
   "cell_type": "code",
   "execution_count": 123,
   "metadata": {},
   "outputs": [
    {
     "name": "stdout",
     "output_type": "stream",
     "text": [
      "The Random Forest Classifier gives the accuracy of 64.54% on the test set\n"
     ]
    }
   ],
   "source": [
    "print(f'The Random Forest Classifier gives the accuracy of {accuracy*100:.2f}% on the test set')"
   ]
  },
  {
   "cell_type": "markdown",
   "metadata": {},
   "source": [
    "### Logistic Regression Classifier"
   ]
  },
  {
   "cell_type": "code",
   "execution_count": 124,
   "metadata": {},
   "outputs": [],
   "source": [
    "from sklearn.linear_model import LogisticRegression"
   ]
  },
  {
   "cell_type": "code",
   "execution_count": 125,
   "metadata": {},
   "outputs": [],
   "source": [
    "clf_lr = LogisticRegression()"
   ]
  },
  {
   "cell_type": "code",
   "execution_count": 126,
   "metadata": {},
   "outputs": [],
   "source": [
    "param_grid = {'C':[0.001,0.01,0.1,1,10,100,1000]}"
   ]
  },
  {
   "cell_type": "code",
   "execution_count": 127,
   "metadata": {},
   "outputs": [],
   "source": [
    "grid_lr = GridSearchCV(clf_lr,param_grid,score)"
   ]
  },
  {
   "cell_type": "code",
   "execution_count": 128,
   "metadata": {},
   "outputs": [],
   "source": [
    "grid_lr = grid_lr.fit(sample_X,sample_Y.squeeze())"
   ]
  },
  {
   "cell_type": "code",
   "execution_count": 129,
   "metadata": {},
   "outputs": [
    {
     "data": {
      "text/plain": [
       "LogisticRegression(C=1000, class_weight=None, dual=False, fit_intercept=True,\n",
       "          intercept_scaling=1, max_iter=100, multi_class='ovr', n_jobs=1,\n",
       "          penalty='l2', random_state=None, solver='liblinear', tol=0.0001,\n",
       "          verbose=0, warm_start=False)"
      ]
     },
     "execution_count": 129,
     "metadata": {},
     "output_type": "execute_result"
    }
   ],
   "source": [
    "grid_lr.best_estimator_"
   ]
  },
  {
   "cell_type": "code",
   "execution_count": 130,
   "metadata": {},
   "outputs": [],
   "source": [
    "clf_lr = grid_lr.best_estimator_"
   ]
  },
  {
   "cell_type": "code",
   "execution_count": 131,
   "metadata": {},
   "outputs": [
    {
     "data": {
      "text/plain": [
       "LogisticRegression(C=1000, class_weight=None, dual=False, fit_intercept=True,\n",
       "          intercept_scaling=1, max_iter=100, multi_class='ovr', n_jobs=1,\n",
       "          penalty='l2', random_state=None, solver='liblinear', tol=0.0001,\n",
       "          verbose=0, warm_start=False)"
      ]
     },
     "execution_count": 131,
     "metadata": {},
     "output_type": "execute_result"
    }
   ],
   "source": [
    "clf_lr.fit(val_X,val_Y.squeeze())"
   ]
  },
  {
   "cell_type": "code",
   "execution_count": 132,
   "metadata": {},
   "outputs": [
    {
     "name": "stdout",
     "output_type": "stream",
     "text": [
      "0.9814404554057424\n"
     ]
    }
   ],
   "source": [
    "predictions = clf_lr.predict(val_X)\n",
    "print(accuracy_score(val_Y,predictions))"
   ]
  },
  {
   "cell_type": "code",
   "execution_count": 133,
   "metadata": {},
   "outputs": [
    {
     "data": {
      "text/plain": [
       "LogisticRegression(C=1000, class_weight=None, dual=False, fit_intercept=True,\n",
       "          intercept_scaling=1, max_iter=100, multi_class='ovr', n_jobs=1,\n",
       "          penalty='l2', random_state=None, solver='liblinear', tol=0.0001,\n",
       "          verbose=0, warm_start=False)"
      ]
     },
     "execution_count": 133,
     "metadata": {},
     "output_type": "execute_result"
    }
   ],
   "source": [
    "# Training on the training data\n",
    "clf_lr.fit(train_X,train_Y.squeeze())"
   ]
  },
  {
   "cell_type": "code",
   "execution_count": 134,
   "metadata": {},
   "outputs": [],
   "source": [
    "predictions = clf_lr.predict(test_X)\n",
    "accuracy = accuracy_score(test_Y,predictions)"
   ]
  },
  {
   "cell_type": "code",
   "execution_count": 135,
   "metadata": {},
   "outputs": [
    {
     "name": "stdout",
     "output_type": "stream",
     "text": [
      "The Logistic Regression Classifier gives the accuracy of 97.82% on the test set\n"
     ]
    }
   ],
   "source": [
    "print(f'The Logistic Regression Classifier gives the accuracy of {accuracy*100:.2f}% on the test set')"
   ]
  },
  {
   "cell_type": "markdown",
   "metadata": {},
   "source": [
    "### SVM Classifier"
   ]
  },
  {
   "cell_type": "code",
   "execution_count": 136,
   "metadata": {},
   "outputs": [],
   "source": [
    "from sklearn.svm import SVC"
   ]
  },
  {
   "cell_type": "code",
   "execution_count": 137,
   "metadata": {},
   "outputs": [],
   "source": [
    "clf_svm = SVC()"
   ]
  },
  {
   "cell_type": "code",
   "execution_count": 138,
   "metadata": {},
   "outputs": [],
   "source": [
    "param_grid = {'C': [0.001,0.01,0.1,1,10,100,1000],\n",
    "              'gamma' : [0.001,0.01,0.1,1]\n",
    "             }"
   ]
  },
  {
   "cell_type": "code",
   "execution_count": 139,
   "metadata": {},
   "outputs": [],
   "source": [
    "grid_svm = GridSearchCV(clf_svm,param_grid,score)"
   ]
  },
  {
   "cell_type": "code",
   "execution_count": 140,
   "metadata": {},
   "outputs": [],
   "source": [
    "grid_svm = grid_svm.fit(sample_X,sample_Y.squeeze())"
   ]
  },
  {
   "cell_type": "code",
   "execution_count": 141,
   "metadata": {},
   "outputs": [
    {
     "data": {
      "text/plain": [
       "SVC(C=10, cache_size=200, class_weight=None, coef0=0.0,\n",
       "  decision_function_shape='ovr', degree=3, gamma=0.001, kernel='rbf',\n",
       "  max_iter=-1, probability=False, random_state=None, shrinking=True,\n",
       "  tol=0.001, verbose=False)"
      ]
     },
     "execution_count": 141,
     "metadata": {},
     "output_type": "execute_result"
    }
   ],
   "source": [
    "grid_svm.best_estimator_"
   ]
  },
  {
   "cell_type": "code",
   "execution_count": 142,
   "metadata": {},
   "outputs": [],
   "source": [
    "clf_svm = grid_svm.best_estimator_"
   ]
  },
  {
   "cell_type": "code",
   "execution_count": 143,
   "metadata": {},
   "outputs": [
    {
     "data": {
      "text/plain": [
       "SVC(C=10, cache_size=200, class_weight=None, coef0=0.0,\n",
       "  decision_function_shape='ovr', degree=3, gamma=0.001, kernel='rbf',\n",
       "  max_iter=-1, probability=False, random_state=None, shrinking=True,\n",
       "  tol=0.001, verbose=False)"
      ]
     },
     "execution_count": 143,
     "metadata": {},
     "output_type": "execute_result"
    }
   ],
   "source": [
    "clf_svm.fit(val_X,val_Y.squeeze())"
   ]
  },
  {
   "cell_type": "code",
   "execution_count": 144,
   "metadata": {},
   "outputs": [],
   "source": [
    "predictions = clf_svm.predict(val_X)"
   ]
  },
  {
   "cell_type": "code",
   "execution_count": 145,
   "metadata": {},
   "outputs": [
    {
     "name": "stdout",
     "output_type": "stream",
     "text": [
      "0.9998532842324565\n"
     ]
    }
   ],
   "source": [
    "print(accuracy_score(val_Y,predictions))"
   ]
  },
  {
   "cell_type": "code",
   "execution_count": 146,
   "metadata": {},
   "outputs": [
    {
     "data": {
      "text/plain": [
       "SVC(C=10, cache_size=200, class_weight=None, coef0=0.0,\n",
       "  decision_function_shape='ovr', degree=3, gamma=0.001, kernel='rbf',\n",
       "  max_iter=-1, probability=False, random_state=None, shrinking=True,\n",
       "  tol=0.001, verbose=False)"
      ]
     },
     "execution_count": 146,
     "metadata": {},
     "output_type": "execute_result"
    }
   ],
   "source": [
    "# Training on the training data\n",
    "clf_svm.fit(train_X,train_Y.squeeze())"
   ]
  },
  {
   "cell_type": "code",
   "execution_count": 147,
   "metadata": {},
   "outputs": [],
   "source": [
    "predictions = clf_svm.predict(test_X)\n",
    "accuracy = accuracy_score(test_Y,predictions)"
   ]
  },
  {
   "cell_type": "code",
   "execution_count": 148,
   "metadata": {},
   "outputs": [
    {
     "name": "stdout",
     "output_type": "stream",
     "text": [
      "The SVM Classifier gives the accuracy of 64.54% on the test set\n"
     ]
    }
   ],
   "source": [
    "print(f'The SVM Classifier gives the accuracy of {accuracy*100:.2f}% on the test set')"
   ]
  },
  {
   "cell_type": "markdown",
   "metadata": {},
   "source": [
    "<b> So, the Random Forest Classifier gives an accuracy of 64.54% on the test set. <br>\n",
    "    The Logistic Regression Classifier gives an accuracy of 97.82% on the test set. <br>\n",
    "    The SVM classifier gives an accuracy of 64.54% on the test set.<br>\n",
    "    <br>\n",
    "    Since the Logistic Regression Classifier performs the best on the test set, the final model that I use is the Logistic regression model. </b>\n",
    "\n"
   ]
  },
  {
   "cell_type": "code",
   "execution_count": 149,
   "metadata": {},
   "outputs": [],
   "source": [
    "import pickle"
   ]
  },
  {
   "cell_type": "code",
   "execution_count": 150,
   "metadata": {},
   "outputs": [],
   "source": [
    "# Saving the trained model.\n",
    "\n",
    "file_name = 'final_model_lr.pkl'\n",
    "pickle.dump(clf_lr,open(file_name,'wb'))"
   ]
  },
  {
   "cell_type": "code",
   "execution_count": 151,
   "metadata": {},
   "outputs": [],
   "source": [
    "# Checking the predictions by loading the model.\n",
    "\n",
    "new_model = pickle.load(open(file_name,'rb'))"
   ]
  },
  {
   "cell_type": "code",
   "execution_count": 154,
   "metadata": {},
   "outputs": [],
   "source": [
    "predictions = new_model.predict(test_X)"
   ]
  },
  {
   "cell_type": "code",
   "execution_count": 155,
   "metadata": {},
   "outputs": [
    {
     "name": "stdout",
     "output_type": "stream",
     "text": [
      "0.9782396281722873\n"
     ]
    }
   ],
   "source": [
    "print(accuracy_score(test_Y,predictions))"
   ]
  }
 ],
 "metadata": {
  "kernelspec": {
   "display_name": "Python 3",
   "language": "python",
   "name": "python3"
  },
  "language_info": {
   "codemirror_mode": {
    "name": "ipython",
    "version": 3
   },
   "file_extension": ".py",
   "mimetype": "text/x-python",
   "name": "python",
   "nbconvert_exporter": "python",
   "pygments_lexer": "ipython3",
   "version": "3.6.5"
  }
 },
 "nbformat": 4,
 "nbformat_minor": 2
}
